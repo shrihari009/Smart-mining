{
  "nbformat": 4,
  "nbformat_minor": 0,
  "metadata": {
    "colab": {
      "provenance": []
    },
    "kernelspec": {
      "name": "python3",
      "display_name": "Python 3"
    },
    "language_info": {
      "name": "python"
    }
  },
  "cells": [
    {
      "cell_type": "code",
      "execution_count": 1,
      "metadata": {
        "id": "qqEFO27CUQ7D"
      },
      "outputs": [],
      "source": [
        "import pandas as pd\n",
        "import numpy as np\n",
        "import matplotlib.pyplot as plt\n",
        "from sklearn.model_selection import train_test_split\n",
        "from sklearn.ensemble import RandomForestRegressor\n",
        "from sklearn.metrics import mean_squared_error, classification_report"
      ]
    },
    {
      "cell_type": "code",
      "source": [
        "minData = pd.read_csv(\"/content/drive/MyDrive/Colab Notebooks/Projects/MiningProcess_Flotation_Plant_Database.csv\")"
      ],
      "metadata": {
        "id": "eINjmAuFUusl"
      },
      "execution_count": 2,
      "outputs": []
    },
    {
      "cell_type": "code",
      "source": [
        "minData2 = minData.drop(columns='date', axis=1)"
      ],
      "metadata": {
        "id": "x386aTcyUyCp"
      },
      "execution_count": 3,
      "outputs": []
    },
    {
      "cell_type": "code",
      "source": [
        "for col in minData2.columns:\n",
        "  if minData2[col].apply(lambda x: isinstance(x, str)).any():\n",
        "    print(f\"Column '{col}' contains string values.\")\n",
        "    minData2[col] = pd.to_numeric(minData2[col].str.replace(',', '.').str.replace(' ', ''), errors='coerce')"
      ],
      "metadata": {
        "colab": {
          "base_uri": "https://localhost:8080/"
        },
        "id": "GFwHxi7bU4Cy",
        "outputId": "e2fa53cf-6495-4176-cf95-9784538d5801"
      },
      "execution_count": 4,
      "outputs": [
        {
          "output_type": "stream",
          "name": "stdout",
          "text": [
            "Column '% Iron Feed' contains string values.\n",
            "Column '% Silica Feed' contains string values.\n",
            "Column 'Starch Flow' contains string values.\n",
            "Column 'Amina Flow' contains string values.\n",
            "Column 'Ore Pulp Flow' contains string values.\n",
            "Column 'Ore Pulp pH' contains string values.\n",
            "Column 'Ore Pulp Density' contains string values.\n",
            "Column 'Flotation Column 01 Air Flow' contains string values.\n",
            "Column 'Flotation Column 02 Air Flow' contains string values.\n",
            "Column 'Flotation Column 03 Air Flow' contains string values.\n",
            "Column 'Flotation Column 04 Air Flow' contains string values.\n",
            "Column 'Flotation Column 05 Air Flow' contains string values.\n",
            "Column 'Flotation Column 06 Air Flow' contains string values.\n",
            "Column 'Flotation Column 07 Air Flow' contains string values.\n",
            "Column 'Flotation Column 01 Level' contains string values.\n",
            "Column 'Flotation Column 02 Level' contains string values.\n",
            "Column 'Flotation Column 03 Level' contains string values.\n",
            "Column 'Flotation Column 04 Level' contains string values.\n",
            "Column 'Flotation Column 05 Level' contains string values.\n",
            "Column 'Flotation Column 06 Level' contains string values.\n",
            "Column 'Flotation Column 07 Level' contains string values.\n",
            "Column '% Iron Concentrate' contains string values.\n",
            "Column '% Silica Concentrate' contains string values.\n"
          ]
        }
      ]
    },
    {
      "cell_type": "code",
      "source": [
        "features = minData2.drop(columns='% Silica Concentrate')\n",
        "target = minData2['% Silica Concentrate']"
      ],
      "metadata": {
        "id": "zVrTvMmuU65-"
      },
      "execution_count": 5,
      "outputs": []
    },
    {
      "cell_type": "code",
      "source": [
        "minData2.columns"
      ],
      "metadata": {
        "colab": {
          "base_uri": "https://localhost:8080/"
        },
        "id": "5H-axbszWn6A",
        "outputId": "f128b125-fa0f-4bd6-ed5e-04dd59a324c0"
      },
      "execution_count": 6,
      "outputs": [
        {
          "output_type": "execute_result",
          "data": {
            "text/plain": [
              "Index(['% Iron Feed', '% Silica Feed', 'Starch Flow', 'Amina Flow',\n",
              "       'Ore Pulp Flow', 'Ore Pulp pH', 'Ore Pulp Density',\n",
              "       'Flotation Column 01 Air Flow', 'Flotation Column 02 Air Flow',\n",
              "       'Flotation Column 03 Air Flow', 'Flotation Column 04 Air Flow',\n",
              "       'Flotation Column 05 Air Flow', 'Flotation Column 06 Air Flow',\n",
              "       'Flotation Column 07 Air Flow', 'Flotation Column 01 Level',\n",
              "       'Flotation Column 02 Level', 'Flotation Column 03 Level',\n",
              "       'Flotation Column 04 Level', 'Flotation Column 05 Level',\n",
              "       'Flotation Column 06 Level', 'Flotation Column 07 Level',\n",
              "       '% Iron Concentrate', '% Silica Concentrate'],\n",
              "      dtype='object')"
            ]
          },
          "metadata": {},
          "execution_count": 6
        }
      ]
    },
    {
      "cell_type": "code",
      "source": [
        "xtrain, xtest, ytrain, ytest = train_test_split(features, target, test_size = 0.2, random_state=36)"
      ],
      "metadata": {
        "id": "nJRytOXJVTQp"
      },
      "execution_count": 7,
      "outputs": []
    },
    {
      "cell_type": "code",
      "source": [
        "from sklearn.preprocessing import StandardScaler"
      ],
      "metadata": {
        "id": "K7v6tDjGVVI7"
      },
      "execution_count": 8,
      "outputs": []
    },
    {
      "cell_type": "code",
      "source": [
        "scaler = StandardScaler()\n",
        "scaler.fit(xtrain)\n",
        "xtrainStd = scaler.transform(xtrain)\n",
        "scaler.fit(xtest)\n",
        "xtestStd = scaler.transform(xtest)"
      ],
      "metadata": {
        "id": "drE4GzziVXq0"
      },
      "execution_count": 9,
      "outputs": []
    },
    {
      "cell_type": "code",
      "source": [
        "from sklearn.model_selection import cross_validate, KFold\n",
        "\n",
        "cv = cross_validate\n",
        "kf = KFold(n_splits=5, shuffle=True, random_state=42)"
      ],
      "metadata": {
        "id": "HywvtLAzWCcl"
      },
      "execution_count": 10,
      "outputs": []
    },
    {
      "cell_type": "code",
      "source": [
        "def modelEval(mod, x, y):\n",
        "  score = cv(mod, x, y)\n",
        "\n",
        "  print(\"Average fitting-time: \", score['fit_time'].mean(),\n",
        "        \"\\nAverage score-time: \", score['score_time'].mean(),\n",
        "        \"\\nAverage test-score (MSE): \", score['test_score'].mean())"
      ],
      "metadata": {
        "id": "5E7yY2IOVkKa"
      },
      "execution_count": 11,
      "outputs": []
    },
    {
      "cell_type": "code",
      "source": [
        "from sklearn.tree import DecisionTreeRegressor\n",
        "\n",
        "DTR = DecisionTreeRegressor(random_state=36)\n",
        "DTR.fit(xtrainStd, ytrain)\n",
        "DTpred = DTR.predict(xtestStd)\n",
        "mean_squared_error(ytest, DTpred)"
      ],
      "metadata": {
        "colab": {
          "base_uri": "https://localhost:8080/"
        },
        "id": "MXR2SNg8WhK1",
        "outputId": "7d4a41c3-364d-485d-a726-e3cf36865622"
      },
      "execution_count": 12,
      "outputs": [
        {
          "output_type": "execute_result",
          "data": {
            "text/plain": [
              "0.028331980282483564"
            ]
          },
          "metadata": {},
          "execution_count": 12
        }
      ]
    },
    {
      "cell_type": "code",
      "source": [
        "modelEval(DTR, xtrainStd, ytrain)"
      ],
      "metadata": {
        "colab": {
          "base_uri": "https://localhost:8080/"
        },
        "id": "S648lbNpXq0E",
        "outputId": "1692fefa-67c0-45f8-a762-84df61812675"
      },
      "execution_count": 13,
      "outputs": [
        {
          "output_type": "stream",
          "name": "stdout",
          "text": [
            "Average fitting-time:  25.035493469238283 \n",
            "Average score-time:  0.06400494575500489 \n",
            "Average test-score (MSE):  0.9931577678355511\n"
          ]
        }
      ]
    },
    {
      "cell_type": "code",
      "source": [
        "from sklearn.metrics import mean_absolute_error, r2_score"
      ],
      "metadata": {
        "id": "qlRUvS1YaxZe"
      },
      "execution_count": 14,
      "outputs": []
    },
    {
      "cell_type": "code",
      "source": [
        "mean_absolute_error(ytest, DTpred)"
      ],
      "metadata": {
        "colab": {
          "base_uri": "https://localhost:8080/"
        },
        "id": "tfz6OkpdfTz9",
        "outputId": "6fd6589d-c42f-4073-cefc-c2c4c9b679b1"
      },
      "execution_count": 15,
      "outputs": [
        {
          "output_type": "execute_result",
          "data": {
            "text/plain": [
              "0.025823058197123754"
            ]
          },
          "metadata": {},
          "execution_count": 15
        }
      ]
    },
    {
      "cell_type": "code",
      "source": [
        "r2_score(ytest, DTpred)"
      ],
      "metadata": {
        "colab": {
          "base_uri": "https://localhost:8080/"
        },
        "id": "BFu2A_fYfbWS",
        "outputId": "1650eb2a-1396-4e78-ed03-939e375cd3a5"
      },
      "execution_count": 16,
      "outputs": [
        {
          "output_type": "execute_result",
          "data": {
            "text/plain": [
              "0.9776019117530825"
            ]
          },
          "metadata": {},
          "execution_count": 16
        }
      ]
    }
  ]
}