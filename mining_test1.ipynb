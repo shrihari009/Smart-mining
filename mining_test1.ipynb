{
  "nbformat": 4,
  "nbformat_minor": 0,
  "metadata": {
    "colab": {
      "provenance": []
    },
    "kernelspec": {
      "name": "python3",
      "display_name": "Python 3"
    },
    "language_info": {
      "name": "python"
    }
  },
  "cells": [
    {
      "cell_type": "code",
      "execution_count": 1,
      "metadata": {
        "id": "_z-1NzL9RZG1"
      },
      "outputs": [],
      "source": [
        "import pandas as pd\n",
        "import numpy as np\n",
        "import matplotlib.pyplot as plt\n",
        "from sklearn.model_selection import train_test_split\n",
        "from sklearn.ensemble import RandomForestRegressor\n",
        "from sklearn.metrics import mean_squared_error, classification_report"
      ]
    },
    {
      "cell_type": "code",
      "source": [
        "minData = pd.read_csv(\"/content/drive/MyDrive/Colab Notebooks/Projects/MiningProcess_Flotation_Plant_Database.csv\")"
      ],
      "metadata": {
        "id": "Cwo2TRk3SBQP"
      },
      "execution_count": 2,
      "outputs": []
    },
    {
      "cell_type": "code",
      "source": [
        "minData.head()"
      ],
      "metadata": {
        "colab": {
          "base_uri": "https://localhost:8080/",
          "height": 463
        },
        "id": "dfaTtpjgSJq3",
        "outputId": "09e0be85-1da4-4521-b56d-ba5fe9761584"
      },
      "execution_count": 3,
      "outputs": [
        {
          "output_type": "execute_result",
          "data": {
            "text/plain": [
              "                  date % Iron Feed % Silica Feed Starch Flow Amina Flow  \\\n",
              "0  2017-03-10 01:00:00        55,2         16,98     3019,53    557,434   \n",
              "1  2017-03-10 01:00:00        55,2         16,98     3024,41    563,965   \n",
              "2  2017-03-10 01:00:00        55,2         16,98     3043,46    568,054   \n",
              "3  2017-03-10 01:00:00        55,2         16,98     3047,36    568,665   \n",
              "4  2017-03-10 01:00:00        55,2         16,98     3033,69    558,167   \n",
              "\n",
              "  Ore Pulp Flow Ore Pulp pH Ore Pulp Density Flotation Column 01 Air Flow  \\\n",
              "0       395,713     10,0664             1,74                      249,214   \n",
              "1       397,383     10,0672             1,74                      249,719   \n",
              "2       399,668      10,068             1,74                      249,741   \n",
              "3       397,939     10,0689             1,74                      249,917   \n",
              "4       400,254     10,0697             1,74                      250,203   \n",
              "\n",
              "  Flotation Column 02 Air Flow  ... Flotation Column 07 Air Flow  \\\n",
              "0                      253,235  ...                      250,884   \n",
              "1                      250,532  ...                      248,994   \n",
              "2                      247,874  ...                      248,071   \n",
              "3                      254,487  ...                      251,147   \n",
              "4                      252,136  ...                      248,928   \n",
              "\n",
              "  Flotation Column 01 Level Flotation Column 02 Level  \\\n",
              "0                   457,396                   432,962   \n",
              "1                   451,891                    429,56   \n",
              "2                    451,24                   468,927   \n",
              "3                   452,441                   458,165   \n",
              "4                   452,441                     452,9   \n",
              "\n",
              "  Flotation Column 03 Level Flotation Column 04 Level  \\\n",
              "0                   424,954                   443,558   \n",
              "1                   432,939                   448,086   \n",
              "2                    434,61                   449,688   \n",
              "3                   442,865                    446,21   \n",
              "4                   450,523                    453,67   \n",
              "\n",
              "  Flotation Column 05 Level Flotation Column 06 Level  \\\n",
              "0                   502,255                    446,37   \n",
              "1                   496,363                   445,922   \n",
              "2                   484,411                   447,826   \n",
              "3                   471,411                    437,69   \n",
              "4                   462,598                   443,682   \n",
              "\n",
              "  Flotation Column 07 Level % Iron Concentrate % Silica Concentrate  \n",
              "0                   523,344              66,91                 1,31  \n",
              "1                   498,075              66,91                 1,31  \n",
              "2                   458,567              66,91                 1,31  \n",
              "3                   427,669              66,91                 1,31  \n",
              "4                   425,679              66,91                 1,31  \n",
              "\n",
              "[5 rows x 24 columns]"
            ],
            "text/html": [
              "\n",
              "  <div id=\"df-f4ac4900-ae87-4777-a305-86e4c84fc690\" class=\"colab-df-container\">\n",
              "    <div>\n",
              "<style scoped>\n",
              "    .dataframe tbody tr th:only-of-type {\n",
              "        vertical-align: middle;\n",
              "    }\n",
              "\n",
              "    .dataframe tbody tr th {\n",
              "        vertical-align: top;\n",
              "    }\n",
              "\n",
              "    .dataframe thead th {\n",
              "        text-align: right;\n",
              "    }\n",
              "</style>\n",
              "<table border=\"1\" class=\"dataframe\">\n",
              "  <thead>\n",
              "    <tr style=\"text-align: right;\">\n",
              "      <th></th>\n",
              "      <th>date</th>\n",
              "      <th>% Iron Feed</th>\n",
              "      <th>% Silica Feed</th>\n",
              "      <th>Starch Flow</th>\n",
              "      <th>Amina Flow</th>\n",
              "      <th>Ore Pulp Flow</th>\n",
              "      <th>Ore Pulp pH</th>\n",
              "      <th>Ore Pulp Density</th>\n",
              "      <th>Flotation Column 01 Air Flow</th>\n",
              "      <th>Flotation Column 02 Air Flow</th>\n",
              "      <th>...</th>\n",
              "      <th>Flotation Column 07 Air Flow</th>\n",
              "      <th>Flotation Column 01 Level</th>\n",
              "      <th>Flotation Column 02 Level</th>\n",
              "      <th>Flotation Column 03 Level</th>\n",
              "      <th>Flotation Column 04 Level</th>\n",
              "      <th>Flotation Column 05 Level</th>\n",
              "      <th>Flotation Column 06 Level</th>\n",
              "      <th>Flotation Column 07 Level</th>\n",
              "      <th>% Iron Concentrate</th>\n",
              "      <th>% Silica Concentrate</th>\n",
              "    </tr>\n",
              "  </thead>\n",
              "  <tbody>\n",
              "    <tr>\n",
              "      <th>0</th>\n",
              "      <td>2017-03-10 01:00:00</td>\n",
              "      <td>55,2</td>\n",
              "      <td>16,98</td>\n",
              "      <td>3019,53</td>\n",
              "      <td>557,434</td>\n",
              "      <td>395,713</td>\n",
              "      <td>10,0664</td>\n",
              "      <td>1,74</td>\n",
              "      <td>249,214</td>\n",
              "      <td>253,235</td>\n",
              "      <td>...</td>\n",
              "      <td>250,884</td>\n",
              "      <td>457,396</td>\n",
              "      <td>432,962</td>\n",
              "      <td>424,954</td>\n",
              "      <td>443,558</td>\n",
              "      <td>502,255</td>\n",
              "      <td>446,37</td>\n",
              "      <td>523,344</td>\n",
              "      <td>66,91</td>\n",
              "      <td>1,31</td>\n",
              "    </tr>\n",
              "    <tr>\n",
              "      <th>1</th>\n",
              "      <td>2017-03-10 01:00:00</td>\n",
              "      <td>55,2</td>\n",
              "      <td>16,98</td>\n",
              "      <td>3024,41</td>\n",
              "      <td>563,965</td>\n",
              "      <td>397,383</td>\n",
              "      <td>10,0672</td>\n",
              "      <td>1,74</td>\n",
              "      <td>249,719</td>\n",
              "      <td>250,532</td>\n",
              "      <td>...</td>\n",
              "      <td>248,994</td>\n",
              "      <td>451,891</td>\n",
              "      <td>429,56</td>\n",
              "      <td>432,939</td>\n",
              "      <td>448,086</td>\n",
              "      <td>496,363</td>\n",
              "      <td>445,922</td>\n",
              "      <td>498,075</td>\n",
              "      <td>66,91</td>\n",
              "      <td>1,31</td>\n",
              "    </tr>\n",
              "    <tr>\n",
              "      <th>2</th>\n",
              "      <td>2017-03-10 01:00:00</td>\n",
              "      <td>55,2</td>\n",
              "      <td>16,98</td>\n",
              "      <td>3043,46</td>\n",
              "      <td>568,054</td>\n",
              "      <td>399,668</td>\n",
              "      <td>10,068</td>\n",
              "      <td>1,74</td>\n",
              "      <td>249,741</td>\n",
              "      <td>247,874</td>\n",
              "      <td>...</td>\n",
              "      <td>248,071</td>\n",
              "      <td>451,24</td>\n",
              "      <td>468,927</td>\n",
              "      <td>434,61</td>\n",
              "      <td>449,688</td>\n",
              "      <td>484,411</td>\n",
              "      <td>447,826</td>\n",
              "      <td>458,567</td>\n",
              "      <td>66,91</td>\n",
              "      <td>1,31</td>\n",
              "    </tr>\n",
              "    <tr>\n",
              "      <th>3</th>\n",
              "      <td>2017-03-10 01:00:00</td>\n",
              "      <td>55,2</td>\n",
              "      <td>16,98</td>\n",
              "      <td>3047,36</td>\n",
              "      <td>568,665</td>\n",
              "      <td>397,939</td>\n",
              "      <td>10,0689</td>\n",
              "      <td>1,74</td>\n",
              "      <td>249,917</td>\n",
              "      <td>254,487</td>\n",
              "      <td>...</td>\n",
              "      <td>251,147</td>\n",
              "      <td>452,441</td>\n",
              "      <td>458,165</td>\n",
              "      <td>442,865</td>\n",
              "      <td>446,21</td>\n",
              "      <td>471,411</td>\n",
              "      <td>437,69</td>\n",
              "      <td>427,669</td>\n",
              "      <td>66,91</td>\n",
              "      <td>1,31</td>\n",
              "    </tr>\n",
              "    <tr>\n",
              "      <th>4</th>\n",
              "      <td>2017-03-10 01:00:00</td>\n",
              "      <td>55,2</td>\n",
              "      <td>16,98</td>\n",
              "      <td>3033,69</td>\n",
              "      <td>558,167</td>\n",
              "      <td>400,254</td>\n",
              "      <td>10,0697</td>\n",
              "      <td>1,74</td>\n",
              "      <td>250,203</td>\n",
              "      <td>252,136</td>\n",
              "      <td>...</td>\n",
              "      <td>248,928</td>\n",
              "      <td>452,441</td>\n",
              "      <td>452,9</td>\n",
              "      <td>450,523</td>\n",
              "      <td>453,67</td>\n",
              "      <td>462,598</td>\n",
              "      <td>443,682</td>\n",
              "      <td>425,679</td>\n",
              "      <td>66,91</td>\n",
              "      <td>1,31</td>\n",
              "    </tr>\n",
              "  </tbody>\n",
              "</table>\n",
              "<p>5 rows × 24 columns</p>\n",
              "</div>\n",
              "    <div class=\"colab-df-buttons\">\n",
              "\n",
              "  <div class=\"colab-df-container\">\n",
              "    <button class=\"colab-df-convert\" onclick=\"convertToInteractive('df-f4ac4900-ae87-4777-a305-86e4c84fc690')\"\n",
              "            title=\"Convert this dataframe to an interactive table.\"\n",
              "            style=\"display:none;\">\n",
              "\n",
              "  <svg xmlns=\"http://www.w3.org/2000/svg\" height=\"24px\" viewBox=\"0 -960 960 960\">\n",
              "    <path d=\"M120-120v-720h720v720H120Zm60-500h600v-160H180v160Zm220 220h160v-160H400v160Zm0 220h160v-160H400v160ZM180-400h160v-160H180v160Zm440 0h160v-160H620v160ZM180-180h160v-160H180v160Zm440 0h160v-160H620v160Z\"/>\n",
              "  </svg>\n",
              "    </button>\n",
              "\n",
              "  <style>\n",
              "    .colab-df-container {\n",
              "      display:flex;\n",
              "      gap: 12px;\n",
              "    }\n",
              "\n",
              "    .colab-df-convert {\n",
              "      background-color: #E8F0FE;\n",
              "      border: none;\n",
              "      border-radius: 50%;\n",
              "      cursor: pointer;\n",
              "      display: none;\n",
              "      fill: #1967D2;\n",
              "      height: 32px;\n",
              "      padding: 0 0 0 0;\n",
              "      width: 32px;\n",
              "    }\n",
              "\n",
              "    .colab-df-convert:hover {\n",
              "      background-color: #E2EBFA;\n",
              "      box-shadow: 0px 1px 2px rgba(60, 64, 67, 0.3), 0px 1px 3px 1px rgba(60, 64, 67, 0.15);\n",
              "      fill: #174EA6;\n",
              "    }\n",
              "\n",
              "    .colab-df-buttons div {\n",
              "      margin-bottom: 4px;\n",
              "    }\n",
              "\n",
              "    [theme=dark] .colab-df-convert {\n",
              "      background-color: #3B4455;\n",
              "      fill: #D2E3FC;\n",
              "    }\n",
              "\n",
              "    [theme=dark] .colab-df-convert:hover {\n",
              "      background-color: #434B5C;\n",
              "      box-shadow: 0px 1px 3px 1px rgba(0, 0, 0, 0.15);\n",
              "      filter: drop-shadow(0px 1px 2px rgba(0, 0, 0, 0.3));\n",
              "      fill: #FFFFFF;\n",
              "    }\n",
              "  </style>\n",
              "\n",
              "    <script>\n",
              "      const buttonEl =\n",
              "        document.querySelector('#df-f4ac4900-ae87-4777-a305-86e4c84fc690 button.colab-df-convert');\n",
              "      buttonEl.style.display =\n",
              "        google.colab.kernel.accessAllowed ? 'block' : 'none';\n",
              "\n",
              "      async function convertToInteractive(key) {\n",
              "        const element = document.querySelector('#df-f4ac4900-ae87-4777-a305-86e4c84fc690');\n",
              "        const dataTable =\n",
              "          await google.colab.kernel.invokeFunction('convertToInteractive',\n",
              "                                                    [key], {});\n",
              "        if (!dataTable) return;\n",
              "\n",
              "        const docLinkHtml = 'Like what you see? Visit the ' +\n",
              "          '<a target=\"_blank\" href=https://colab.research.google.com/notebooks/data_table.ipynb>data table notebook</a>'\n",
              "          + ' to learn more about interactive tables.';\n",
              "        element.innerHTML = '';\n",
              "        dataTable['output_type'] = 'display_data';\n",
              "        await google.colab.output.renderOutput(dataTable, element);\n",
              "        const docLink = document.createElement('div');\n",
              "        docLink.innerHTML = docLinkHtml;\n",
              "        element.appendChild(docLink);\n",
              "      }\n",
              "    </script>\n",
              "  </div>\n",
              "\n",
              "\n",
              "<div id=\"df-5d12ab46-b0ac-4f7b-84be-c1efa0517200\">\n",
              "  <button class=\"colab-df-quickchart\" onclick=\"quickchart('df-5d12ab46-b0ac-4f7b-84be-c1efa0517200')\"\n",
              "            title=\"Suggest charts.\"\n",
              "            style=\"display:none;\">\n",
              "\n",
              "<svg xmlns=\"http://www.w3.org/2000/svg\" height=\"24px\"viewBox=\"0 0 24 24\"\n",
              "     width=\"24px\">\n",
              "    <g>\n",
              "        <path d=\"M19 3H5c-1.1 0-2 .9-2 2v14c0 1.1.9 2 2 2h14c1.1 0 2-.9 2-2V5c0-1.1-.9-2-2-2zM9 17H7v-7h2v7zm4 0h-2V7h2v10zm4 0h-2v-4h2v4z\"/>\n",
              "    </g>\n",
              "</svg>\n",
              "  </button>\n",
              "\n",
              "<style>\n",
              "  .colab-df-quickchart {\n",
              "      --bg-color: #E8F0FE;\n",
              "      --fill-color: #1967D2;\n",
              "      --hover-bg-color: #E2EBFA;\n",
              "      --hover-fill-color: #174EA6;\n",
              "      --disabled-fill-color: #AAA;\n",
              "      --disabled-bg-color: #DDD;\n",
              "  }\n",
              "\n",
              "  [theme=dark] .colab-df-quickchart {\n",
              "      --bg-color: #3B4455;\n",
              "      --fill-color: #D2E3FC;\n",
              "      --hover-bg-color: #434B5C;\n",
              "      --hover-fill-color: #FFFFFF;\n",
              "      --disabled-bg-color: #3B4455;\n",
              "      --disabled-fill-color: #666;\n",
              "  }\n",
              "\n",
              "  .colab-df-quickchart {\n",
              "    background-color: var(--bg-color);\n",
              "    border: none;\n",
              "    border-radius: 50%;\n",
              "    cursor: pointer;\n",
              "    display: none;\n",
              "    fill: var(--fill-color);\n",
              "    height: 32px;\n",
              "    padding: 0;\n",
              "    width: 32px;\n",
              "  }\n",
              "\n",
              "  .colab-df-quickchart:hover {\n",
              "    background-color: var(--hover-bg-color);\n",
              "    box-shadow: 0 1px 2px rgba(60, 64, 67, 0.3), 0 1px 3px 1px rgba(60, 64, 67, 0.15);\n",
              "    fill: var(--button-hover-fill-color);\n",
              "  }\n",
              "\n",
              "  .colab-df-quickchart-complete:disabled,\n",
              "  .colab-df-quickchart-complete:disabled:hover {\n",
              "    background-color: var(--disabled-bg-color);\n",
              "    fill: var(--disabled-fill-color);\n",
              "    box-shadow: none;\n",
              "  }\n",
              "\n",
              "  .colab-df-spinner {\n",
              "    border: 2px solid var(--fill-color);\n",
              "    border-color: transparent;\n",
              "    border-bottom-color: var(--fill-color);\n",
              "    animation:\n",
              "      spin 1s steps(1) infinite;\n",
              "  }\n",
              "\n",
              "  @keyframes spin {\n",
              "    0% {\n",
              "      border-color: transparent;\n",
              "      border-bottom-color: var(--fill-color);\n",
              "      border-left-color: var(--fill-color);\n",
              "    }\n",
              "    20% {\n",
              "      border-color: transparent;\n",
              "      border-left-color: var(--fill-color);\n",
              "      border-top-color: var(--fill-color);\n",
              "    }\n",
              "    30% {\n",
              "      border-color: transparent;\n",
              "      border-left-color: var(--fill-color);\n",
              "      border-top-color: var(--fill-color);\n",
              "      border-right-color: var(--fill-color);\n",
              "    }\n",
              "    40% {\n",
              "      border-color: transparent;\n",
              "      border-right-color: var(--fill-color);\n",
              "      border-top-color: var(--fill-color);\n",
              "    }\n",
              "    60% {\n",
              "      border-color: transparent;\n",
              "      border-right-color: var(--fill-color);\n",
              "    }\n",
              "    80% {\n",
              "      border-color: transparent;\n",
              "      border-right-color: var(--fill-color);\n",
              "      border-bottom-color: var(--fill-color);\n",
              "    }\n",
              "    90% {\n",
              "      border-color: transparent;\n",
              "      border-bottom-color: var(--fill-color);\n",
              "    }\n",
              "  }\n",
              "</style>\n",
              "\n",
              "  <script>\n",
              "    async function quickchart(key) {\n",
              "      const quickchartButtonEl =\n",
              "        document.querySelector('#' + key + ' button');\n",
              "      quickchartButtonEl.disabled = true;  // To prevent multiple clicks.\n",
              "      quickchartButtonEl.classList.add('colab-df-spinner');\n",
              "      try {\n",
              "        const charts = await google.colab.kernel.invokeFunction(\n",
              "            'suggestCharts', [key], {});\n",
              "      } catch (error) {\n",
              "        console.error('Error during call to suggestCharts:', error);\n",
              "      }\n",
              "      quickchartButtonEl.classList.remove('colab-df-spinner');\n",
              "      quickchartButtonEl.classList.add('colab-df-quickchart-complete');\n",
              "    }\n",
              "    (() => {\n",
              "      let quickchartButtonEl =\n",
              "        document.querySelector('#df-5d12ab46-b0ac-4f7b-84be-c1efa0517200 button');\n",
              "      quickchartButtonEl.style.display =\n",
              "        google.colab.kernel.accessAllowed ? 'block' : 'none';\n",
              "    })();\n",
              "  </script>\n",
              "</div>\n",
              "    </div>\n",
              "  </div>\n"
            ]
          },
          "metadata": {},
          "execution_count": 3
        }
      ]
    },
    {
      "cell_type": "code",
      "source": [
        "minData.columns"
      ],
      "metadata": {
        "colab": {
          "base_uri": "https://localhost:8080/"
        },
        "id": "8x4VAWGxlSq5",
        "outputId": "c116cbee-0150-475b-81d0-4b90c2376f79"
      },
      "execution_count": 4,
      "outputs": [
        {
          "output_type": "execute_result",
          "data": {
            "text/plain": [
              "Index(['date', '% Iron Feed', '% Silica Feed', 'Starch Flow', 'Amina Flow',\n",
              "       'Ore Pulp Flow', 'Ore Pulp pH', 'Ore Pulp Density',\n",
              "       'Flotation Column 01 Air Flow', 'Flotation Column 02 Air Flow',\n",
              "       'Flotation Column 03 Air Flow', 'Flotation Column 04 Air Flow',\n",
              "       'Flotation Column 05 Air Flow', 'Flotation Column 06 Air Flow',\n",
              "       'Flotation Column 07 Air Flow', 'Flotation Column 01 Level',\n",
              "       'Flotation Column 02 Level', 'Flotation Column 03 Level',\n",
              "       'Flotation Column 04 Level', 'Flotation Column 05 Level',\n",
              "       'Flotation Column 06 Level', 'Flotation Column 07 Level',\n",
              "       '% Iron Concentrate', '% Silica Concentrate'],\n",
              "      dtype='object')"
            ]
          },
          "metadata": {},
          "execution_count": 4
        }
      ]
    },
    {
      "cell_type": "code",
      "source": [
        "minData2 = minData.drop(columns='date', axis=1)\n",
        "minData2.head()"
      ],
      "metadata": {
        "colab": {
          "base_uri": "https://localhost:8080/",
          "height": 290
        },
        "id": "rxu50mV3ogI2",
        "outputId": "8730116f-215a-45b0-d71c-9b7da6e9dec7"
      },
      "execution_count": 5,
      "outputs": [
        {
          "output_type": "execute_result",
          "data": {
            "text/plain": [
              "  % Iron Feed % Silica Feed Starch Flow Amina Flow Ore Pulp Flow Ore Pulp pH  \\\n",
              "0        55,2         16,98     3019,53    557,434       395,713     10,0664   \n",
              "1        55,2         16,98     3024,41    563,965       397,383     10,0672   \n",
              "2        55,2         16,98     3043,46    568,054       399,668      10,068   \n",
              "3        55,2         16,98     3047,36    568,665       397,939     10,0689   \n",
              "4        55,2         16,98     3033,69    558,167       400,254     10,0697   \n",
              "\n",
              "  Ore Pulp Density Flotation Column 01 Air Flow Flotation Column 02 Air Flow  \\\n",
              "0             1,74                      249,214                      253,235   \n",
              "1             1,74                      249,719                      250,532   \n",
              "2             1,74                      249,741                      247,874   \n",
              "3             1,74                      249,917                      254,487   \n",
              "4             1,74                      250,203                      252,136   \n",
              "\n",
              "  Flotation Column 03 Air Flow  ... Flotation Column 07 Air Flow  \\\n",
              "0                      250,576  ...                      250,884   \n",
              "1                      250,862  ...                      248,994   \n",
              "2                      250,313  ...                      248,071   \n",
              "3                      250,049  ...                      251,147   \n",
              "4                      249,895  ...                      248,928   \n",
              "\n",
              "  Flotation Column 01 Level Flotation Column 02 Level  \\\n",
              "0                   457,396                   432,962   \n",
              "1                   451,891                    429,56   \n",
              "2                    451,24                   468,927   \n",
              "3                   452,441                   458,165   \n",
              "4                   452,441                     452,9   \n",
              "\n",
              "  Flotation Column 03 Level Flotation Column 04 Level  \\\n",
              "0                   424,954                   443,558   \n",
              "1                   432,939                   448,086   \n",
              "2                    434,61                   449,688   \n",
              "3                   442,865                    446,21   \n",
              "4                   450,523                    453,67   \n",
              "\n",
              "  Flotation Column 05 Level Flotation Column 06 Level  \\\n",
              "0                   502,255                    446,37   \n",
              "1                   496,363                   445,922   \n",
              "2                   484,411                   447,826   \n",
              "3                   471,411                    437,69   \n",
              "4                   462,598                   443,682   \n",
              "\n",
              "  Flotation Column 07 Level % Iron Concentrate % Silica Concentrate  \n",
              "0                   523,344              66,91                 1,31  \n",
              "1                   498,075              66,91                 1,31  \n",
              "2                   458,567              66,91                 1,31  \n",
              "3                   427,669              66,91                 1,31  \n",
              "4                   425,679              66,91                 1,31  \n",
              "\n",
              "[5 rows x 23 columns]"
            ],
            "text/html": [
              "\n",
              "  <div id=\"df-efd5d5b1-1a8d-4cb4-8fb0-2e0320e2b8b7\" class=\"colab-df-container\">\n",
              "    <div>\n",
              "<style scoped>\n",
              "    .dataframe tbody tr th:only-of-type {\n",
              "        vertical-align: middle;\n",
              "    }\n",
              "\n",
              "    .dataframe tbody tr th {\n",
              "        vertical-align: top;\n",
              "    }\n",
              "\n",
              "    .dataframe thead th {\n",
              "        text-align: right;\n",
              "    }\n",
              "</style>\n",
              "<table border=\"1\" class=\"dataframe\">\n",
              "  <thead>\n",
              "    <tr style=\"text-align: right;\">\n",
              "      <th></th>\n",
              "      <th>% Iron Feed</th>\n",
              "      <th>% Silica Feed</th>\n",
              "      <th>Starch Flow</th>\n",
              "      <th>Amina Flow</th>\n",
              "      <th>Ore Pulp Flow</th>\n",
              "      <th>Ore Pulp pH</th>\n",
              "      <th>Ore Pulp Density</th>\n",
              "      <th>Flotation Column 01 Air Flow</th>\n",
              "      <th>Flotation Column 02 Air Flow</th>\n",
              "      <th>Flotation Column 03 Air Flow</th>\n",
              "      <th>...</th>\n",
              "      <th>Flotation Column 07 Air Flow</th>\n",
              "      <th>Flotation Column 01 Level</th>\n",
              "      <th>Flotation Column 02 Level</th>\n",
              "      <th>Flotation Column 03 Level</th>\n",
              "      <th>Flotation Column 04 Level</th>\n",
              "      <th>Flotation Column 05 Level</th>\n",
              "      <th>Flotation Column 06 Level</th>\n",
              "      <th>Flotation Column 07 Level</th>\n",
              "      <th>% Iron Concentrate</th>\n",
              "      <th>% Silica Concentrate</th>\n",
              "    </tr>\n",
              "  </thead>\n",
              "  <tbody>\n",
              "    <tr>\n",
              "      <th>0</th>\n",
              "      <td>55,2</td>\n",
              "      <td>16,98</td>\n",
              "      <td>3019,53</td>\n",
              "      <td>557,434</td>\n",
              "      <td>395,713</td>\n",
              "      <td>10,0664</td>\n",
              "      <td>1,74</td>\n",
              "      <td>249,214</td>\n",
              "      <td>253,235</td>\n",
              "      <td>250,576</td>\n",
              "      <td>...</td>\n",
              "      <td>250,884</td>\n",
              "      <td>457,396</td>\n",
              "      <td>432,962</td>\n",
              "      <td>424,954</td>\n",
              "      <td>443,558</td>\n",
              "      <td>502,255</td>\n",
              "      <td>446,37</td>\n",
              "      <td>523,344</td>\n",
              "      <td>66,91</td>\n",
              "      <td>1,31</td>\n",
              "    </tr>\n",
              "    <tr>\n",
              "      <th>1</th>\n",
              "      <td>55,2</td>\n",
              "      <td>16,98</td>\n",
              "      <td>3024,41</td>\n",
              "      <td>563,965</td>\n",
              "      <td>397,383</td>\n",
              "      <td>10,0672</td>\n",
              "      <td>1,74</td>\n",
              "      <td>249,719</td>\n",
              "      <td>250,532</td>\n",
              "      <td>250,862</td>\n",
              "      <td>...</td>\n",
              "      <td>248,994</td>\n",
              "      <td>451,891</td>\n",
              "      <td>429,56</td>\n",
              "      <td>432,939</td>\n",
              "      <td>448,086</td>\n",
              "      <td>496,363</td>\n",
              "      <td>445,922</td>\n",
              "      <td>498,075</td>\n",
              "      <td>66,91</td>\n",
              "      <td>1,31</td>\n",
              "    </tr>\n",
              "    <tr>\n",
              "      <th>2</th>\n",
              "      <td>55,2</td>\n",
              "      <td>16,98</td>\n",
              "      <td>3043,46</td>\n",
              "      <td>568,054</td>\n",
              "      <td>399,668</td>\n",
              "      <td>10,068</td>\n",
              "      <td>1,74</td>\n",
              "      <td>249,741</td>\n",
              "      <td>247,874</td>\n",
              "      <td>250,313</td>\n",
              "      <td>...</td>\n",
              "      <td>248,071</td>\n",
              "      <td>451,24</td>\n",
              "      <td>468,927</td>\n",
              "      <td>434,61</td>\n",
              "      <td>449,688</td>\n",
              "      <td>484,411</td>\n",
              "      <td>447,826</td>\n",
              "      <td>458,567</td>\n",
              "      <td>66,91</td>\n",
              "      <td>1,31</td>\n",
              "    </tr>\n",
              "    <tr>\n",
              "      <th>3</th>\n",
              "      <td>55,2</td>\n",
              "      <td>16,98</td>\n",
              "      <td>3047,36</td>\n",
              "      <td>568,665</td>\n",
              "      <td>397,939</td>\n",
              "      <td>10,0689</td>\n",
              "      <td>1,74</td>\n",
              "      <td>249,917</td>\n",
              "      <td>254,487</td>\n",
              "      <td>250,049</td>\n",
              "      <td>...</td>\n",
              "      <td>251,147</td>\n",
              "      <td>452,441</td>\n",
              "      <td>458,165</td>\n",
              "      <td>442,865</td>\n",
              "      <td>446,21</td>\n",
              "      <td>471,411</td>\n",
              "      <td>437,69</td>\n",
              "      <td>427,669</td>\n",
              "      <td>66,91</td>\n",
              "      <td>1,31</td>\n",
              "    </tr>\n",
              "    <tr>\n",
              "      <th>4</th>\n",
              "      <td>55,2</td>\n",
              "      <td>16,98</td>\n",
              "      <td>3033,69</td>\n",
              "      <td>558,167</td>\n",
              "      <td>400,254</td>\n",
              "      <td>10,0697</td>\n",
              "      <td>1,74</td>\n",
              "      <td>250,203</td>\n",
              "      <td>252,136</td>\n",
              "      <td>249,895</td>\n",
              "      <td>...</td>\n",
              "      <td>248,928</td>\n",
              "      <td>452,441</td>\n",
              "      <td>452,9</td>\n",
              "      <td>450,523</td>\n",
              "      <td>453,67</td>\n",
              "      <td>462,598</td>\n",
              "      <td>443,682</td>\n",
              "      <td>425,679</td>\n",
              "      <td>66,91</td>\n",
              "      <td>1,31</td>\n",
              "    </tr>\n",
              "  </tbody>\n",
              "</table>\n",
              "<p>5 rows × 23 columns</p>\n",
              "</div>\n",
              "    <div class=\"colab-df-buttons\">\n",
              "\n",
              "  <div class=\"colab-df-container\">\n",
              "    <button class=\"colab-df-convert\" onclick=\"convertToInteractive('df-efd5d5b1-1a8d-4cb4-8fb0-2e0320e2b8b7')\"\n",
              "            title=\"Convert this dataframe to an interactive table.\"\n",
              "            style=\"display:none;\">\n",
              "\n",
              "  <svg xmlns=\"http://www.w3.org/2000/svg\" height=\"24px\" viewBox=\"0 -960 960 960\">\n",
              "    <path d=\"M120-120v-720h720v720H120Zm60-500h600v-160H180v160Zm220 220h160v-160H400v160Zm0 220h160v-160H400v160ZM180-400h160v-160H180v160Zm440 0h160v-160H620v160ZM180-180h160v-160H180v160Zm440 0h160v-160H620v160Z\"/>\n",
              "  </svg>\n",
              "    </button>\n",
              "\n",
              "  <style>\n",
              "    .colab-df-container {\n",
              "      display:flex;\n",
              "      gap: 12px;\n",
              "    }\n",
              "\n",
              "    .colab-df-convert {\n",
              "      background-color: #E8F0FE;\n",
              "      border: none;\n",
              "      border-radius: 50%;\n",
              "      cursor: pointer;\n",
              "      display: none;\n",
              "      fill: #1967D2;\n",
              "      height: 32px;\n",
              "      padding: 0 0 0 0;\n",
              "      width: 32px;\n",
              "    }\n",
              "\n",
              "    .colab-df-convert:hover {\n",
              "      background-color: #E2EBFA;\n",
              "      box-shadow: 0px 1px 2px rgba(60, 64, 67, 0.3), 0px 1px 3px 1px rgba(60, 64, 67, 0.15);\n",
              "      fill: #174EA6;\n",
              "    }\n",
              "\n",
              "    .colab-df-buttons div {\n",
              "      margin-bottom: 4px;\n",
              "    }\n",
              "\n",
              "    [theme=dark] .colab-df-convert {\n",
              "      background-color: #3B4455;\n",
              "      fill: #D2E3FC;\n",
              "    }\n",
              "\n",
              "    [theme=dark] .colab-df-convert:hover {\n",
              "      background-color: #434B5C;\n",
              "      box-shadow: 0px 1px 3px 1px rgba(0, 0, 0, 0.15);\n",
              "      filter: drop-shadow(0px 1px 2px rgba(0, 0, 0, 0.3));\n",
              "      fill: #FFFFFF;\n",
              "    }\n",
              "  </style>\n",
              "\n",
              "    <script>\n",
              "      const buttonEl =\n",
              "        document.querySelector('#df-efd5d5b1-1a8d-4cb4-8fb0-2e0320e2b8b7 button.colab-df-convert');\n",
              "      buttonEl.style.display =\n",
              "        google.colab.kernel.accessAllowed ? 'block' : 'none';\n",
              "\n",
              "      async function convertToInteractive(key) {\n",
              "        const element = document.querySelector('#df-efd5d5b1-1a8d-4cb4-8fb0-2e0320e2b8b7');\n",
              "        const dataTable =\n",
              "          await google.colab.kernel.invokeFunction('convertToInteractive',\n",
              "                                                    [key], {});\n",
              "        if (!dataTable) return;\n",
              "\n",
              "        const docLinkHtml = 'Like what you see? Visit the ' +\n",
              "          '<a target=\"_blank\" href=https://colab.research.google.com/notebooks/data_table.ipynb>data table notebook</a>'\n",
              "          + ' to learn more about interactive tables.';\n",
              "        element.innerHTML = '';\n",
              "        dataTable['output_type'] = 'display_data';\n",
              "        await google.colab.output.renderOutput(dataTable, element);\n",
              "        const docLink = document.createElement('div');\n",
              "        docLink.innerHTML = docLinkHtml;\n",
              "        element.appendChild(docLink);\n",
              "      }\n",
              "    </script>\n",
              "  </div>\n",
              "\n",
              "\n",
              "<div id=\"df-a704613b-f4aa-4743-803e-416434610f5e\">\n",
              "  <button class=\"colab-df-quickchart\" onclick=\"quickchart('df-a704613b-f4aa-4743-803e-416434610f5e')\"\n",
              "            title=\"Suggest charts.\"\n",
              "            style=\"display:none;\">\n",
              "\n",
              "<svg xmlns=\"http://www.w3.org/2000/svg\" height=\"24px\"viewBox=\"0 0 24 24\"\n",
              "     width=\"24px\">\n",
              "    <g>\n",
              "        <path d=\"M19 3H5c-1.1 0-2 .9-2 2v14c0 1.1.9 2 2 2h14c1.1 0 2-.9 2-2V5c0-1.1-.9-2-2-2zM9 17H7v-7h2v7zm4 0h-2V7h2v10zm4 0h-2v-4h2v4z\"/>\n",
              "    </g>\n",
              "</svg>\n",
              "  </button>\n",
              "\n",
              "<style>\n",
              "  .colab-df-quickchart {\n",
              "      --bg-color: #E8F0FE;\n",
              "      --fill-color: #1967D2;\n",
              "      --hover-bg-color: #E2EBFA;\n",
              "      --hover-fill-color: #174EA6;\n",
              "      --disabled-fill-color: #AAA;\n",
              "      --disabled-bg-color: #DDD;\n",
              "  }\n",
              "\n",
              "  [theme=dark] .colab-df-quickchart {\n",
              "      --bg-color: #3B4455;\n",
              "      --fill-color: #D2E3FC;\n",
              "      --hover-bg-color: #434B5C;\n",
              "      --hover-fill-color: #FFFFFF;\n",
              "      --disabled-bg-color: #3B4455;\n",
              "      --disabled-fill-color: #666;\n",
              "  }\n",
              "\n",
              "  .colab-df-quickchart {\n",
              "    background-color: var(--bg-color);\n",
              "    border: none;\n",
              "    border-radius: 50%;\n",
              "    cursor: pointer;\n",
              "    display: none;\n",
              "    fill: var(--fill-color);\n",
              "    height: 32px;\n",
              "    padding: 0;\n",
              "    width: 32px;\n",
              "  }\n",
              "\n",
              "  .colab-df-quickchart:hover {\n",
              "    background-color: var(--hover-bg-color);\n",
              "    box-shadow: 0 1px 2px rgba(60, 64, 67, 0.3), 0 1px 3px 1px rgba(60, 64, 67, 0.15);\n",
              "    fill: var(--button-hover-fill-color);\n",
              "  }\n",
              "\n",
              "  .colab-df-quickchart-complete:disabled,\n",
              "  .colab-df-quickchart-complete:disabled:hover {\n",
              "    background-color: var(--disabled-bg-color);\n",
              "    fill: var(--disabled-fill-color);\n",
              "    box-shadow: none;\n",
              "  }\n",
              "\n",
              "  .colab-df-spinner {\n",
              "    border: 2px solid var(--fill-color);\n",
              "    border-color: transparent;\n",
              "    border-bottom-color: var(--fill-color);\n",
              "    animation:\n",
              "      spin 1s steps(1) infinite;\n",
              "  }\n",
              "\n",
              "  @keyframes spin {\n",
              "    0% {\n",
              "      border-color: transparent;\n",
              "      border-bottom-color: var(--fill-color);\n",
              "      border-left-color: var(--fill-color);\n",
              "    }\n",
              "    20% {\n",
              "      border-color: transparent;\n",
              "      border-left-color: var(--fill-color);\n",
              "      border-top-color: var(--fill-color);\n",
              "    }\n",
              "    30% {\n",
              "      border-color: transparent;\n",
              "      border-left-color: var(--fill-color);\n",
              "      border-top-color: var(--fill-color);\n",
              "      border-right-color: var(--fill-color);\n",
              "    }\n",
              "    40% {\n",
              "      border-color: transparent;\n",
              "      border-right-color: var(--fill-color);\n",
              "      border-top-color: var(--fill-color);\n",
              "    }\n",
              "    60% {\n",
              "      border-color: transparent;\n",
              "      border-right-color: var(--fill-color);\n",
              "    }\n",
              "    80% {\n",
              "      border-color: transparent;\n",
              "      border-right-color: var(--fill-color);\n",
              "      border-bottom-color: var(--fill-color);\n",
              "    }\n",
              "    90% {\n",
              "      border-color: transparent;\n",
              "      border-bottom-color: var(--fill-color);\n",
              "    }\n",
              "  }\n",
              "</style>\n",
              "\n",
              "  <script>\n",
              "    async function quickchart(key) {\n",
              "      const quickchartButtonEl =\n",
              "        document.querySelector('#' + key + ' button');\n",
              "      quickchartButtonEl.disabled = true;  // To prevent multiple clicks.\n",
              "      quickchartButtonEl.classList.add('colab-df-spinner');\n",
              "      try {\n",
              "        const charts = await google.colab.kernel.invokeFunction(\n",
              "            'suggestCharts', [key], {});\n",
              "      } catch (error) {\n",
              "        console.error('Error during call to suggestCharts:', error);\n",
              "      }\n",
              "      quickchartButtonEl.classList.remove('colab-df-spinner');\n",
              "      quickchartButtonEl.classList.add('colab-df-quickchart-complete');\n",
              "    }\n",
              "    (() => {\n",
              "      let quickchartButtonEl =\n",
              "        document.querySelector('#df-a704613b-f4aa-4743-803e-416434610f5e button');\n",
              "      quickchartButtonEl.style.display =\n",
              "        google.colab.kernel.accessAllowed ? 'block' : 'none';\n",
              "    })();\n",
              "  </script>\n",
              "</div>\n",
              "    </div>\n",
              "  </div>\n"
            ]
          },
          "metadata": {},
          "execution_count": 5
        }
      ]
    },
    {
      "cell_type": "code",
      "source": [
        "minData.shape"
      ],
      "metadata": {
        "colab": {
          "base_uri": "https://localhost:8080/"
        },
        "id": "MnNeZQsfSTso",
        "outputId": "fdbda739-2ac6-4d87-838a-850fdc4c0aea"
      },
      "execution_count": 6,
      "outputs": [
        {
          "output_type": "execute_result",
          "data": {
            "text/plain": [
              "(737453, 24)"
            ]
          },
          "metadata": {},
          "execution_count": 6
        }
      ]
    },
    {
      "cell_type": "code",
      "source": [
        "for col in minData2.columns:\n",
        "  if minData2[col].apply(lambda x: isinstance(x, str)).any():\n",
        "    print(f\"Column '{col}' contains string values.\")\n",
        "    minData2[col] = pd.to_numeric(minData2[col].str.replace(',', '.').str.replace(' ', ''), errors='coerce')"
      ],
      "metadata": {
        "colab": {
          "base_uri": "https://localhost:8080/"
        },
        "id": "4KiHBXN41ulf",
        "outputId": "78904aaa-c8bd-493e-937f-d8432cf66e51"
      },
      "execution_count": 7,
      "outputs": [
        {
          "output_type": "stream",
          "name": "stdout",
          "text": [
            "Column '% Iron Feed' contains string values.\n",
            "Column '% Silica Feed' contains string values.\n",
            "Column 'Starch Flow' contains string values.\n",
            "Column 'Amina Flow' contains string values.\n",
            "Column 'Ore Pulp Flow' contains string values.\n",
            "Column 'Ore Pulp pH' contains string values.\n",
            "Column 'Ore Pulp Density' contains string values.\n",
            "Column 'Flotation Column 01 Air Flow' contains string values.\n",
            "Column 'Flotation Column 02 Air Flow' contains string values.\n",
            "Column 'Flotation Column 03 Air Flow' contains string values.\n",
            "Column 'Flotation Column 04 Air Flow' contains string values.\n",
            "Column 'Flotation Column 05 Air Flow' contains string values.\n",
            "Column 'Flotation Column 06 Air Flow' contains string values.\n",
            "Column 'Flotation Column 07 Air Flow' contains string values.\n",
            "Column 'Flotation Column 01 Level' contains string values.\n",
            "Column 'Flotation Column 02 Level' contains string values.\n",
            "Column 'Flotation Column 03 Level' contains string values.\n",
            "Column 'Flotation Column 04 Level' contains string values.\n",
            "Column 'Flotation Column 05 Level' contains string values.\n",
            "Column 'Flotation Column 06 Level' contains string values.\n",
            "Column 'Flotation Column 07 Level' contains string values.\n",
            "Column '% Iron Concentrate' contains string values.\n",
            "Column '% Silica Concentrate' contains string values.\n"
          ]
        }
      ]
    },
    {
      "cell_type": "code",
      "source": [
        "minData2.head()"
      ],
      "metadata": {
        "colab": {
          "base_uri": "https://localhost:8080/",
          "height": 290
        },
        "id": "VTK_wgMYoCus",
        "outputId": "0d183762-31ae-478e-8216-8a3eefcb95c4"
      },
      "execution_count": 8,
      "outputs": [
        {
          "output_type": "execute_result",
          "data": {
            "text/plain": [
              "   % Iron Feed  % Silica Feed  Starch Flow  Amina Flow  Ore Pulp Flow  \\\n",
              "0         55.2          16.98      3019.53     557.434        395.713   \n",
              "1         55.2          16.98      3024.41     563.965        397.383   \n",
              "2         55.2          16.98      3043.46     568.054        399.668   \n",
              "3         55.2          16.98      3047.36     568.665        397.939   \n",
              "4         55.2          16.98      3033.69     558.167        400.254   \n",
              "\n",
              "   Ore Pulp pH  Ore Pulp Density  Flotation Column 01 Air Flow  \\\n",
              "0      10.0664              1.74                       249.214   \n",
              "1      10.0672              1.74                       249.719   \n",
              "2      10.0680              1.74                       249.741   \n",
              "3      10.0689              1.74                       249.917   \n",
              "4      10.0697              1.74                       250.203   \n",
              "\n",
              "   Flotation Column 02 Air Flow  Flotation Column 03 Air Flow  ...  \\\n",
              "0                       253.235                       250.576  ...   \n",
              "1                       250.532                       250.862  ...   \n",
              "2                       247.874                       250.313  ...   \n",
              "3                       254.487                       250.049  ...   \n",
              "4                       252.136                       249.895  ...   \n",
              "\n",
              "   Flotation Column 07 Air Flow  Flotation Column 01 Level  \\\n",
              "0                       250.884                    457.396   \n",
              "1                       248.994                    451.891   \n",
              "2                       248.071                    451.240   \n",
              "3                       251.147                    452.441   \n",
              "4                       248.928                    452.441   \n",
              "\n",
              "   Flotation Column 02 Level  Flotation Column 03 Level  \\\n",
              "0                    432.962                    424.954   \n",
              "1                    429.560                    432.939   \n",
              "2                    468.927                    434.610   \n",
              "3                    458.165                    442.865   \n",
              "4                    452.900                    450.523   \n",
              "\n",
              "   Flotation Column 04 Level  Flotation Column 05 Level  \\\n",
              "0                    443.558                    502.255   \n",
              "1                    448.086                    496.363   \n",
              "2                    449.688                    484.411   \n",
              "3                    446.210                    471.411   \n",
              "4                    453.670                    462.598   \n",
              "\n",
              "   Flotation Column 06 Level  Flotation Column 07 Level  % Iron Concentrate  \\\n",
              "0                    446.370                    523.344               66.91   \n",
              "1                    445.922                    498.075               66.91   \n",
              "2                    447.826                    458.567               66.91   \n",
              "3                    437.690                    427.669               66.91   \n",
              "4                    443.682                    425.679               66.91   \n",
              "\n",
              "   % Silica Concentrate  \n",
              "0                  1.31  \n",
              "1                  1.31  \n",
              "2                  1.31  \n",
              "3                  1.31  \n",
              "4                  1.31  \n",
              "\n",
              "[5 rows x 23 columns]"
            ],
            "text/html": [
              "\n",
              "  <div id=\"df-a180c230-3ac2-477f-8a78-d3cfb25abd3f\" class=\"colab-df-container\">\n",
              "    <div>\n",
              "<style scoped>\n",
              "    .dataframe tbody tr th:only-of-type {\n",
              "        vertical-align: middle;\n",
              "    }\n",
              "\n",
              "    .dataframe tbody tr th {\n",
              "        vertical-align: top;\n",
              "    }\n",
              "\n",
              "    .dataframe thead th {\n",
              "        text-align: right;\n",
              "    }\n",
              "</style>\n",
              "<table border=\"1\" class=\"dataframe\">\n",
              "  <thead>\n",
              "    <tr style=\"text-align: right;\">\n",
              "      <th></th>\n",
              "      <th>% Iron Feed</th>\n",
              "      <th>% Silica Feed</th>\n",
              "      <th>Starch Flow</th>\n",
              "      <th>Amina Flow</th>\n",
              "      <th>Ore Pulp Flow</th>\n",
              "      <th>Ore Pulp pH</th>\n",
              "      <th>Ore Pulp Density</th>\n",
              "      <th>Flotation Column 01 Air Flow</th>\n",
              "      <th>Flotation Column 02 Air Flow</th>\n",
              "      <th>Flotation Column 03 Air Flow</th>\n",
              "      <th>...</th>\n",
              "      <th>Flotation Column 07 Air Flow</th>\n",
              "      <th>Flotation Column 01 Level</th>\n",
              "      <th>Flotation Column 02 Level</th>\n",
              "      <th>Flotation Column 03 Level</th>\n",
              "      <th>Flotation Column 04 Level</th>\n",
              "      <th>Flotation Column 05 Level</th>\n",
              "      <th>Flotation Column 06 Level</th>\n",
              "      <th>Flotation Column 07 Level</th>\n",
              "      <th>% Iron Concentrate</th>\n",
              "      <th>% Silica Concentrate</th>\n",
              "    </tr>\n",
              "  </thead>\n",
              "  <tbody>\n",
              "    <tr>\n",
              "      <th>0</th>\n",
              "      <td>55.2</td>\n",
              "      <td>16.98</td>\n",
              "      <td>3019.53</td>\n",
              "      <td>557.434</td>\n",
              "      <td>395.713</td>\n",
              "      <td>10.0664</td>\n",
              "      <td>1.74</td>\n",
              "      <td>249.214</td>\n",
              "      <td>253.235</td>\n",
              "      <td>250.576</td>\n",
              "      <td>...</td>\n",
              "      <td>250.884</td>\n",
              "      <td>457.396</td>\n",
              "      <td>432.962</td>\n",
              "      <td>424.954</td>\n",
              "      <td>443.558</td>\n",
              "      <td>502.255</td>\n",
              "      <td>446.370</td>\n",
              "      <td>523.344</td>\n",
              "      <td>66.91</td>\n",
              "      <td>1.31</td>\n",
              "    </tr>\n",
              "    <tr>\n",
              "      <th>1</th>\n",
              "      <td>55.2</td>\n",
              "      <td>16.98</td>\n",
              "      <td>3024.41</td>\n",
              "      <td>563.965</td>\n",
              "      <td>397.383</td>\n",
              "      <td>10.0672</td>\n",
              "      <td>1.74</td>\n",
              "      <td>249.719</td>\n",
              "      <td>250.532</td>\n",
              "      <td>250.862</td>\n",
              "      <td>...</td>\n",
              "      <td>248.994</td>\n",
              "      <td>451.891</td>\n",
              "      <td>429.560</td>\n",
              "      <td>432.939</td>\n",
              "      <td>448.086</td>\n",
              "      <td>496.363</td>\n",
              "      <td>445.922</td>\n",
              "      <td>498.075</td>\n",
              "      <td>66.91</td>\n",
              "      <td>1.31</td>\n",
              "    </tr>\n",
              "    <tr>\n",
              "      <th>2</th>\n",
              "      <td>55.2</td>\n",
              "      <td>16.98</td>\n",
              "      <td>3043.46</td>\n",
              "      <td>568.054</td>\n",
              "      <td>399.668</td>\n",
              "      <td>10.0680</td>\n",
              "      <td>1.74</td>\n",
              "      <td>249.741</td>\n",
              "      <td>247.874</td>\n",
              "      <td>250.313</td>\n",
              "      <td>...</td>\n",
              "      <td>248.071</td>\n",
              "      <td>451.240</td>\n",
              "      <td>468.927</td>\n",
              "      <td>434.610</td>\n",
              "      <td>449.688</td>\n",
              "      <td>484.411</td>\n",
              "      <td>447.826</td>\n",
              "      <td>458.567</td>\n",
              "      <td>66.91</td>\n",
              "      <td>1.31</td>\n",
              "    </tr>\n",
              "    <tr>\n",
              "      <th>3</th>\n",
              "      <td>55.2</td>\n",
              "      <td>16.98</td>\n",
              "      <td>3047.36</td>\n",
              "      <td>568.665</td>\n",
              "      <td>397.939</td>\n",
              "      <td>10.0689</td>\n",
              "      <td>1.74</td>\n",
              "      <td>249.917</td>\n",
              "      <td>254.487</td>\n",
              "      <td>250.049</td>\n",
              "      <td>...</td>\n",
              "      <td>251.147</td>\n",
              "      <td>452.441</td>\n",
              "      <td>458.165</td>\n",
              "      <td>442.865</td>\n",
              "      <td>446.210</td>\n",
              "      <td>471.411</td>\n",
              "      <td>437.690</td>\n",
              "      <td>427.669</td>\n",
              "      <td>66.91</td>\n",
              "      <td>1.31</td>\n",
              "    </tr>\n",
              "    <tr>\n",
              "      <th>4</th>\n",
              "      <td>55.2</td>\n",
              "      <td>16.98</td>\n",
              "      <td>3033.69</td>\n",
              "      <td>558.167</td>\n",
              "      <td>400.254</td>\n",
              "      <td>10.0697</td>\n",
              "      <td>1.74</td>\n",
              "      <td>250.203</td>\n",
              "      <td>252.136</td>\n",
              "      <td>249.895</td>\n",
              "      <td>...</td>\n",
              "      <td>248.928</td>\n",
              "      <td>452.441</td>\n",
              "      <td>452.900</td>\n",
              "      <td>450.523</td>\n",
              "      <td>453.670</td>\n",
              "      <td>462.598</td>\n",
              "      <td>443.682</td>\n",
              "      <td>425.679</td>\n",
              "      <td>66.91</td>\n",
              "      <td>1.31</td>\n",
              "    </tr>\n",
              "  </tbody>\n",
              "</table>\n",
              "<p>5 rows × 23 columns</p>\n",
              "</div>\n",
              "    <div class=\"colab-df-buttons\">\n",
              "\n",
              "  <div class=\"colab-df-container\">\n",
              "    <button class=\"colab-df-convert\" onclick=\"convertToInteractive('df-a180c230-3ac2-477f-8a78-d3cfb25abd3f')\"\n",
              "            title=\"Convert this dataframe to an interactive table.\"\n",
              "            style=\"display:none;\">\n",
              "\n",
              "  <svg xmlns=\"http://www.w3.org/2000/svg\" height=\"24px\" viewBox=\"0 -960 960 960\">\n",
              "    <path d=\"M120-120v-720h720v720H120Zm60-500h600v-160H180v160Zm220 220h160v-160H400v160Zm0 220h160v-160H400v160ZM180-400h160v-160H180v160Zm440 0h160v-160H620v160ZM180-180h160v-160H180v160Zm440 0h160v-160H620v160Z\"/>\n",
              "  </svg>\n",
              "    </button>\n",
              "\n",
              "  <style>\n",
              "    .colab-df-container {\n",
              "      display:flex;\n",
              "      gap: 12px;\n",
              "    }\n",
              "\n",
              "    .colab-df-convert {\n",
              "      background-color: #E8F0FE;\n",
              "      border: none;\n",
              "      border-radius: 50%;\n",
              "      cursor: pointer;\n",
              "      display: none;\n",
              "      fill: #1967D2;\n",
              "      height: 32px;\n",
              "      padding: 0 0 0 0;\n",
              "      width: 32px;\n",
              "    }\n",
              "\n",
              "    .colab-df-convert:hover {\n",
              "      background-color: #E2EBFA;\n",
              "      box-shadow: 0px 1px 2px rgba(60, 64, 67, 0.3), 0px 1px 3px 1px rgba(60, 64, 67, 0.15);\n",
              "      fill: #174EA6;\n",
              "    }\n",
              "\n",
              "    .colab-df-buttons div {\n",
              "      margin-bottom: 4px;\n",
              "    }\n",
              "\n",
              "    [theme=dark] .colab-df-convert {\n",
              "      background-color: #3B4455;\n",
              "      fill: #D2E3FC;\n",
              "    }\n",
              "\n",
              "    [theme=dark] .colab-df-convert:hover {\n",
              "      background-color: #434B5C;\n",
              "      box-shadow: 0px 1px 3px 1px rgba(0, 0, 0, 0.15);\n",
              "      filter: drop-shadow(0px 1px 2px rgba(0, 0, 0, 0.3));\n",
              "      fill: #FFFFFF;\n",
              "    }\n",
              "  </style>\n",
              "\n",
              "    <script>\n",
              "      const buttonEl =\n",
              "        document.querySelector('#df-a180c230-3ac2-477f-8a78-d3cfb25abd3f button.colab-df-convert');\n",
              "      buttonEl.style.display =\n",
              "        google.colab.kernel.accessAllowed ? 'block' : 'none';\n",
              "\n",
              "      async function convertToInteractive(key) {\n",
              "        const element = document.querySelector('#df-a180c230-3ac2-477f-8a78-d3cfb25abd3f');\n",
              "        const dataTable =\n",
              "          await google.colab.kernel.invokeFunction('convertToInteractive',\n",
              "                                                    [key], {});\n",
              "        if (!dataTable) return;\n",
              "\n",
              "        const docLinkHtml = 'Like what you see? Visit the ' +\n",
              "          '<a target=\"_blank\" href=https://colab.research.google.com/notebooks/data_table.ipynb>data table notebook</a>'\n",
              "          + ' to learn more about interactive tables.';\n",
              "        element.innerHTML = '';\n",
              "        dataTable['output_type'] = 'display_data';\n",
              "        await google.colab.output.renderOutput(dataTable, element);\n",
              "        const docLink = document.createElement('div');\n",
              "        docLink.innerHTML = docLinkHtml;\n",
              "        element.appendChild(docLink);\n",
              "      }\n",
              "    </script>\n",
              "  </div>\n",
              "\n",
              "\n",
              "<div id=\"df-025202a1-2ed6-4ff4-861a-8e95d92c5da4\">\n",
              "  <button class=\"colab-df-quickchart\" onclick=\"quickchart('df-025202a1-2ed6-4ff4-861a-8e95d92c5da4')\"\n",
              "            title=\"Suggest charts.\"\n",
              "            style=\"display:none;\">\n",
              "\n",
              "<svg xmlns=\"http://www.w3.org/2000/svg\" height=\"24px\"viewBox=\"0 0 24 24\"\n",
              "     width=\"24px\">\n",
              "    <g>\n",
              "        <path d=\"M19 3H5c-1.1 0-2 .9-2 2v14c0 1.1.9 2 2 2h14c1.1 0 2-.9 2-2V5c0-1.1-.9-2-2-2zM9 17H7v-7h2v7zm4 0h-2V7h2v10zm4 0h-2v-4h2v4z\"/>\n",
              "    </g>\n",
              "</svg>\n",
              "  </button>\n",
              "\n",
              "<style>\n",
              "  .colab-df-quickchart {\n",
              "      --bg-color: #E8F0FE;\n",
              "      --fill-color: #1967D2;\n",
              "      --hover-bg-color: #E2EBFA;\n",
              "      --hover-fill-color: #174EA6;\n",
              "      --disabled-fill-color: #AAA;\n",
              "      --disabled-bg-color: #DDD;\n",
              "  }\n",
              "\n",
              "  [theme=dark] .colab-df-quickchart {\n",
              "      --bg-color: #3B4455;\n",
              "      --fill-color: #D2E3FC;\n",
              "      --hover-bg-color: #434B5C;\n",
              "      --hover-fill-color: #FFFFFF;\n",
              "      --disabled-bg-color: #3B4455;\n",
              "      --disabled-fill-color: #666;\n",
              "  }\n",
              "\n",
              "  .colab-df-quickchart {\n",
              "    background-color: var(--bg-color);\n",
              "    border: none;\n",
              "    border-radius: 50%;\n",
              "    cursor: pointer;\n",
              "    display: none;\n",
              "    fill: var(--fill-color);\n",
              "    height: 32px;\n",
              "    padding: 0;\n",
              "    width: 32px;\n",
              "  }\n",
              "\n",
              "  .colab-df-quickchart:hover {\n",
              "    background-color: var(--hover-bg-color);\n",
              "    box-shadow: 0 1px 2px rgba(60, 64, 67, 0.3), 0 1px 3px 1px rgba(60, 64, 67, 0.15);\n",
              "    fill: var(--button-hover-fill-color);\n",
              "  }\n",
              "\n",
              "  .colab-df-quickchart-complete:disabled,\n",
              "  .colab-df-quickchart-complete:disabled:hover {\n",
              "    background-color: var(--disabled-bg-color);\n",
              "    fill: var(--disabled-fill-color);\n",
              "    box-shadow: none;\n",
              "  }\n",
              "\n",
              "  .colab-df-spinner {\n",
              "    border: 2px solid var(--fill-color);\n",
              "    border-color: transparent;\n",
              "    border-bottom-color: var(--fill-color);\n",
              "    animation:\n",
              "      spin 1s steps(1) infinite;\n",
              "  }\n",
              "\n",
              "  @keyframes spin {\n",
              "    0% {\n",
              "      border-color: transparent;\n",
              "      border-bottom-color: var(--fill-color);\n",
              "      border-left-color: var(--fill-color);\n",
              "    }\n",
              "    20% {\n",
              "      border-color: transparent;\n",
              "      border-left-color: var(--fill-color);\n",
              "      border-top-color: var(--fill-color);\n",
              "    }\n",
              "    30% {\n",
              "      border-color: transparent;\n",
              "      border-left-color: var(--fill-color);\n",
              "      border-top-color: var(--fill-color);\n",
              "      border-right-color: var(--fill-color);\n",
              "    }\n",
              "    40% {\n",
              "      border-color: transparent;\n",
              "      border-right-color: var(--fill-color);\n",
              "      border-top-color: var(--fill-color);\n",
              "    }\n",
              "    60% {\n",
              "      border-color: transparent;\n",
              "      border-right-color: var(--fill-color);\n",
              "    }\n",
              "    80% {\n",
              "      border-color: transparent;\n",
              "      border-right-color: var(--fill-color);\n",
              "      border-bottom-color: var(--fill-color);\n",
              "    }\n",
              "    90% {\n",
              "      border-color: transparent;\n",
              "      border-bottom-color: var(--fill-color);\n",
              "    }\n",
              "  }\n",
              "</style>\n",
              "\n",
              "  <script>\n",
              "    async function quickchart(key) {\n",
              "      const quickchartButtonEl =\n",
              "        document.querySelector('#' + key + ' button');\n",
              "      quickchartButtonEl.disabled = true;  // To prevent multiple clicks.\n",
              "      quickchartButtonEl.classList.add('colab-df-spinner');\n",
              "      try {\n",
              "        const charts = await google.colab.kernel.invokeFunction(\n",
              "            'suggestCharts', [key], {});\n",
              "      } catch (error) {\n",
              "        console.error('Error during call to suggestCharts:', error);\n",
              "      }\n",
              "      quickchartButtonEl.classList.remove('colab-df-spinner');\n",
              "      quickchartButtonEl.classList.add('colab-df-quickchart-complete');\n",
              "    }\n",
              "    (() => {\n",
              "      let quickchartButtonEl =\n",
              "        document.querySelector('#df-025202a1-2ed6-4ff4-861a-8e95d92c5da4 button');\n",
              "      quickchartButtonEl.style.display =\n",
              "        google.colab.kernel.accessAllowed ? 'block' : 'none';\n",
              "    })();\n",
              "  </script>\n",
              "</div>\n",
              "    </div>\n",
              "  </div>\n"
            ]
          },
          "metadata": {},
          "execution_count": 8
        }
      ]
    },
    {
      "cell_type": "code",
      "source": [
        "print(minData2['Ore Pulp Density'].values)"
      ],
      "metadata": {
        "colab": {
          "base_uri": "https://localhost:8080/"
        },
        "id": "US3ZSh_2wabb",
        "outputId": "3947eb9b-d49b-4abb-aead-514922136a7c"
      },
      "execution_count": 9,
      "outputs": [
        {
          "output_type": "stream",
          "name": "stdout",
          "text": [
            "[1.74    1.74    1.74    ... 1.65338 1.65324 1.6531 ]\n"
          ]
        }
      ]
    },
    {
      "cell_type": "code",
      "source": [
        "def desc(arr):\n",
        "    print(\"Minimum Value:\", arr.min())\n",
        "    print(\"Maximum Value:\", arr.max())\n",
        "    print(\"Mean:\", np.mean(arr))\n",
        "    print(\"Median:\", np.median(arr))\n",
        "    print(\"Standard Deviation:\", np.std(arr))\n",
        "    print(\"Total number of Null-values:\", sum(arr.isnull()))\n",
        "    print(\"Number of Elements:\", arr.size)"
      ],
      "metadata": {
        "id": "aKgSaySYp6TR"
      },
      "execution_count": 10,
      "outputs": []
    },
    {
      "cell_type": "code",
      "source": [
        "desc(minData2['% Silica Concentrate'])"
      ],
      "metadata": {
        "colab": {
          "base_uri": "https://localhost:8080/"
        },
        "id": "JoWlGpdbrUGu",
        "outputId": "1564a621-c9bc-412a-9405-57ed7993fdf4"
      },
      "execution_count": 11,
      "outputs": [
        {
          "output_type": "stream",
          "name": "stdout",
          "text": [
            "Minimum Value: 0.6\n",
            "Maximum Value: 5.53\n",
            "Mean: 2.326763251352968\n",
            "Median: 2.0\n",
            "Standard Deviation: 1.125552831618528\n",
            "Total number of Null-values: 0\n",
            "Number of Elements: 737453\n"
          ]
        }
      ]
    },
    {
      "cell_type": "code",
      "source": [
        "desc(minData2['% Iron Feed'])"
      ],
      "metadata": {
        "colab": {
          "base_uri": "https://localhost:8080/"
        },
        "id": "QGEMwmsordZV",
        "outputId": "73377664-c701-4582-ed45-2d1aa8d8d894"
      },
      "execution_count": 12,
      "outputs": [
        {
          "output_type": "stream",
          "name": "stdout",
          "text": [
            "Minimum Value: 42.74\n",
            "Maximum Value: 65.78\n",
            "Mean: 56.29473906811692\n",
            "Median: 56.08\n",
            "Standard Deviation: 5.15774064564115\n",
            "Total number of Null-values: 0\n",
            "Number of Elements: 737453\n"
          ]
        }
      ]
    },
    {
      "cell_type": "code",
      "source": [
        "desc(minData2['Ore Pulp Density'])"
      ],
      "metadata": {
        "colab": {
          "base_uri": "https://localhost:8080/"
        },
        "id": "YiHAknBdvtRo",
        "outputId": "d558c73e-9f87-42ed-911c-94ef5fb5ca69"
      },
      "execution_count": 13,
      "outputs": [
        {
          "output_type": "stream",
          "name": "stdout",
          "text": [
            "Minimum Value: 1.51982\n",
            "Maximum Value: 1.85325\n",
            "Mean: 1.6803796856003073\n",
            "Median: 1.6976\n",
            "Standard Deviation: 0.06924878164431912\n",
            "Total number of Null-values: 0\n",
            "Number of Elements: 737453\n"
          ]
        }
      ]
    },
    {
      "cell_type": "code",
      "source": [
        "features = minData2.drop(columns='% Silica Concentrate')\n",
        "target = minData2['% Silica Concentrate']"
      ],
      "metadata": {
        "id": "FMsmX3IEr3j4"
      },
      "execution_count": 14,
      "outputs": []
    },
    {
      "cell_type": "code",
      "source": [
        "xtrain, xtest, ytrain, ytest = train_test_split(features, target, test_size = 0.2, random_state=42)"
      ],
      "metadata": {
        "id": "W4KUjYmts6la"
      },
      "execution_count": 15,
      "outputs": []
    },
    {
      "cell_type": "code",
      "source": [
        "from sklearn.preprocessing import StandardScaler"
      ],
      "metadata": {
        "id": "WlwrbTRv6xeB"
      },
      "execution_count": 16,
      "outputs": []
    },
    {
      "cell_type": "code",
      "source": [
        "scaler = StandardScaler()\n",
        "scaler.fit(xtrain)\n",
        "xtrainStd = scaler.transform(xtrain)"
      ],
      "metadata": {
        "id": "HlT_2g-z66eh"
      },
      "execution_count": 17,
      "outputs": []
    },
    {
      "cell_type": "code",
      "source": [
        "scaler.fit(xtest)\n",
        "xtestStd = scaler.transform(xtest)"
      ],
      "metadata": {
        "id": "XXX981u7SKPS"
      },
      "execution_count": 18,
      "outputs": []
    },
    {
      "cell_type": "code",
      "source": [
        "from sklearn.linear_model import Lasso\n",
        "\n",
        "LAR = Lasso(alpha=0.01)"
      ],
      "metadata": {
        "id": "HP8lP6RMxf-e"
      },
      "execution_count": 19,
      "outputs": []
    },
    {
      "cell_type": "code",
      "source": [
        "LAR.fit(xtrainStd, ytrain)"
      ],
      "metadata": {
        "colab": {
          "base_uri": "https://localhost:8080/",
          "height": 74
        },
        "id": "_v3IQn698Va3",
        "outputId": "c003476d-af6c-4388-b68d-4cda1668e318"
      },
      "execution_count": 20,
      "outputs": [
        {
          "output_type": "execute_result",
          "data": {
            "text/plain": [
              "Lasso(alpha=0.01)"
            ],
            "text/html": [
              "<style>#sk-container-id-1 {color: black;background-color: white;}#sk-container-id-1 pre{padding: 0;}#sk-container-id-1 div.sk-toggleable {background-color: white;}#sk-container-id-1 label.sk-toggleable__label {cursor: pointer;display: block;width: 100%;margin-bottom: 0;padding: 0.3em;box-sizing: border-box;text-align: center;}#sk-container-id-1 label.sk-toggleable__label-arrow:before {content: \"▸\";float: left;margin-right: 0.25em;color: #696969;}#sk-container-id-1 label.sk-toggleable__label-arrow:hover:before {color: black;}#sk-container-id-1 div.sk-estimator:hover label.sk-toggleable__label-arrow:before {color: black;}#sk-container-id-1 div.sk-toggleable__content {max-height: 0;max-width: 0;overflow: hidden;text-align: left;background-color: #f0f8ff;}#sk-container-id-1 div.sk-toggleable__content pre {margin: 0.2em;color: black;border-radius: 0.25em;background-color: #f0f8ff;}#sk-container-id-1 input.sk-toggleable__control:checked~div.sk-toggleable__content {max-height: 200px;max-width: 100%;overflow: auto;}#sk-container-id-1 input.sk-toggleable__control:checked~label.sk-toggleable__label-arrow:before {content: \"▾\";}#sk-container-id-1 div.sk-estimator input.sk-toggleable__control:checked~label.sk-toggleable__label {background-color: #d4ebff;}#sk-container-id-1 div.sk-label input.sk-toggleable__control:checked~label.sk-toggleable__label {background-color: #d4ebff;}#sk-container-id-1 input.sk-hidden--visually {border: 0;clip: rect(1px 1px 1px 1px);clip: rect(1px, 1px, 1px, 1px);height: 1px;margin: -1px;overflow: hidden;padding: 0;position: absolute;width: 1px;}#sk-container-id-1 div.sk-estimator {font-family: monospace;background-color: #f0f8ff;border: 1px dotted black;border-radius: 0.25em;box-sizing: border-box;margin-bottom: 0.5em;}#sk-container-id-1 div.sk-estimator:hover {background-color: #d4ebff;}#sk-container-id-1 div.sk-parallel-item::after {content: \"\";width: 100%;border-bottom: 1px solid gray;flex-grow: 1;}#sk-container-id-1 div.sk-label:hover label.sk-toggleable__label {background-color: #d4ebff;}#sk-container-id-1 div.sk-serial::before {content: \"\";position: absolute;border-left: 1px solid gray;box-sizing: border-box;top: 0;bottom: 0;left: 50%;z-index: 0;}#sk-container-id-1 div.sk-serial {display: flex;flex-direction: column;align-items: center;background-color: white;padding-right: 0.2em;padding-left: 0.2em;position: relative;}#sk-container-id-1 div.sk-item {position: relative;z-index: 1;}#sk-container-id-1 div.sk-parallel {display: flex;align-items: stretch;justify-content: center;background-color: white;position: relative;}#sk-container-id-1 div.sk-item::before, #sk-container-id-1 div.sk-parallel-item::before {content: \"\";position: absolute;border-left: 1px solid gray;box-sizing: border-box;top: 0;bottom: 0;left: 50%;z-index: -1;}#sk-container-id-1 div.sk-parallel-item {display: flex;flex-direction: column;z-index: 1;position: relative;background-color: white;}#sk-container-id-1 div.sk-parallel-item:first-child::after {align-self: flex-end;width: 50%;}#sk-container-id-1 div.sk-parallel-item:last-child::after {align-self: flex-start;width: 50%;}#sk-container-id-1 div.sk-parallel-item:only-child::after {width: 0;}#sk-container-id-1 div.sk-dashed-wrapped {border: 1px dashed gray;margin: 0 0.4em 0.5em 0.4em;box-sizing: border-box;padding-bottom: 0.4em;background-color: white;}#sk-container-id-1 div.sk-label label {font-family: monospace;font-weight: bold;display: inline-block;line-height: 1.2em;}#sk-container-id-1 div.sk-label-container {text-align: center;}#sk-container-id-1 div.sk-container {/* jupyter's `normalize.less` sets `[hidden] { display: none; }` but bootstrap.min.css set `[hidden] { display: none !important; }` so we also need the `!important` here to be able to override the default hidden behavior on the sphinx rendered scikit-learn.org. See: https://github.com/scikit-learn/scikit-learn/issues/21755 */display: inline-block !important;position: relative;}#sk-container-id-1 div.sk-text-repr-fallback {display: none;}</style><div id=\"sk-container-id-1\" class=\"sk-top-container\"><div class=\"sk-text-repr-fallback\"><pre>Lasso(alpha=0.01)</pre><b>In a Jupyter environment, please rerun this cell to show the HTML representation or trust the notebook. <br />On GitHub, the HTML representation is unable to render, please try loading this page with nbviewer.org.</b></div><div class=\"sk-container\" hidden><div class=\"sk-item\"><div class=\"sk-estimator sk-toggleable\"><input class=\"sk-toggleable__control sk-hidden--visually\" id=\"sk-estimator-id-1\" type=\"checkbox\" checked><label for=\"sk-estimator-id-1\" class=\"sk-toggleable__label sk-toggleable__label-arrow\">Lasso</label><div class=\"sk-toggleable__content\"><pre>Lasso(alpha=0.01)</pre></div></div></div></div></div>"
            ]
          },
          "metadata": {},
          "execution_count": 20
        }
      ]
    },
    {
      "cell_type": "code",
      "source": [
        "ypred = LAR.predict(xtestStd)"
      ],
      "metadata": {
        "id": "H5XXOtSP9HTk"
      },
      "execution_count": 21,
      "outputs": []
    },
    {
      "cell_type": "code",
      "source": [
        "from sklearn.metrics import accuracy_score"
      ],
      "metadata": {
        "id": "BZop4ug2-E2V"
      },
      "execution_count": 22,
      "outputs": []
    },
    {
      "cell_type": "code",
      "source": [
        "mean_squared_error(ypred, ytest)"
      ],
      "metadata": {
        "colab": {
          "base_uri": "https://localhost:8080/"
        },
        "id": "S_1Qy7829Wcr",
        "outputId": "476566a1-9830-4dac-db5a-db26ea021811"
      },
      "execution_count": 23,
      "outputs": [
        {
          "output_type": "execute_result",
          "data": {
            "text/plain": [
              "0.4081973956994784"
            ]
          },
          "metadata": {},
          "execution_count": 23
        }
      ]
    },
    {
      "cell_type": "code",
      "source": [
        "from sklearn.model_selection import cross_validate, KFold\n",
        "\n",
        "cv = cross_validate\n",
        "kf = KFold(n_splits=5, shuffle=True, random_state=42)"
      ],
      "metadata": {
        "id": "m6int6pR9e9_"
      },
      "execution_count": 24,
      "outputs": []
    },
    {
      "cell_type": "code",
      "source": [
        "def modelEval(mod, x, y):\n",
        "  score = cv(mod, x, y)\n",
        "\n",
        "  print(\"Average fitting-time: \", score['fit_time'].mean(),\n",
        "        \"\\nAverage score-time: \", score['score_time'].mean(),\n",
        "        \"\\nAverage test-score (MSE): \", score['test_score'].mean())\n"
      ],
      "metadata": {
        "id": "LE1L9S58ED_S"
      },
      "execution_count": 25,
      "outputs": []
    },
    {
      "cell_type": "code",
      "source": [
        "modelEval(LAR, xtrainStd, ytrain)"
      ],
      "metadata": {
        "colab": {
          "base_uri": "https://localhost:8080/"
        },
        "id": "ByVH3J65DyeF",
        "outputId": "e162ac88-949e-4e7a-fca6-495d3713441f"
      },
      "execution_count": 26,
      "outputs": [
        {
          "output_type": "stream",
          "name": "stdout",
          "text": [
            "Average fitting-time:  1.3353621006011962 \n",
            "Average score-time:  0.009364128112792969 \n",
            "Average test-score (MSE):  0.6771119201599782\n"
          ]
        }
      ]
    },
    {
      "cell_type": "code",
      "source": [
        "from sklearn.linear_model import LinearRegression"
      ],
      "metadata": {
        "id": "44CFobVVFArf"
      },
      "execution_count": 27,
      "outputs": []
    },
    {
      "cell_type": "code",
      "source": [
        "LR = LinearRegression()"
      ],
      "metadata": {
        "id": "mQ-CqvxMKUzw"
      },
      "execution_count": 28,
      "outputs": []
    },
    {
      "cell_type": "code",
      "source": [
        "LR.fit(xtrainStd, ytrain)"
      ],
      "metadata": {
        "colab": {
          "base_uri": "https://localhost:8080/",
          "height": 74
        },
        "id": "vAHK--m7KoK5",
        "outputId": "0e0677a1-2aac-4176-c6cc-3a19cd9242eb"
      },
      "execution_count": 29,
      "outputs": [
        {
          "output_type": "execute_result",
          "data": {
            "text/plain": [
              "LinearRegression()"
            ],
            "text/html": [
              "<style>#sk-container-id-2 {color: black;background-color: white;}#sk-container-id-2 pre{padding: 0;}#sk-container-id-2 div.sk-toggleable {background-color: white;}#sk-container-id-2 label.sk-toggleable__label {cursor: pointer;display: block;width: 100%;margin-bottom: 0;padding: 0.3em;box-sizing: border-box;text-align: center;}#sk-container-id-2 label.sk-toggleable__label-arrow:before {content: \"▸\";float: left;margin-right: 0.25em;color: #696969;}#sk-container-id-2 label.sk-toggleable__label-arrow:hover:before {color: black;}#sk-container-id-2 div.sk-estimator:hover label.sk-toggleable__label-arrow:before {color: black;}#sk-container-id-2 div.sk-toggleable__content {max-height: 0;max-width: 0;overflow: hidden;text-align: left;background-color: #f0f8ff;}#sk-container-id-2 div.sk-toggleable__content pre {margin: 0.2em;color: black;border-radius: 0.25em;background-color: #f0f8ff;}#sk-container-id-2 input.sk-toggleable__control:checked~div.sk-toggleable__content {max-height: 200px;max-width: 100%;overflow: auto;}#sk-container-id-2 input.sk-toggleable__control:checked~label.sk-toggleable__label-arrow:before {content: \"▾\";}#sk-container-id-2 div.sk-estimator input.sk-toggleable__control:checked~label.sk-toggleable__label {background-color: #d4ebff;}#sk-container-id-2 div.sk-label input.sk-toggleable__control:checked~label.sk-toggleable__label {background-color: #d4ebff;}#sk-container-id-2 input.sk-hidden--visually {border: 0;clip: rect(1px 1px 1px 1px);clip: rect(1px, 1px, 1px, 1px);height: 1px;margin: -1px;overflow: hidden;padding: 0;position: absolute;width: 1px;}#sk-container-id-2 div.sk-estimator {font-family: monospace;background-color: #f0f8ff;border: 1px dotted black;border-radius: 0.25em;box-sizing: border-box;margin-bottom: 0.5em;}#sk-container-id-2 div.sk-estimator:hover {background-color: #d4ebff;}#sk-container-id-2 div.sk-parallel-item::after {content: \"\";width: 100%;border-bottom: 1px solid gray;flex-grow: 1;}#sk-container-id-2 div.sk-label:hover label.sk-toggleable__label {background-color: #d4ebff;}#sk-container-id-2 div.sk-serial::before {content: \"\";position: absolute;border-left: 1px solid gray;box-sizing: border-box;top: 0;bottom: 0;left: 50%;z-index: 0;}#sk-container-id-2 div.sk-serial {display: flex;flex-direction: column;align-items: center;background-color: white;padding-right: 0.2em;padding-left: 0.2em;position: relative;}#sk-container-id-2 div.sk-item {position: relative;z-index: 1;}#sk-container-id-2 div.sk-parallel {display: flex;align-items: stretch;justify-content: center;background-color: white;position: relative;}#sk-container-id-2 div.sk-item::before, #sk-container-id-2 div.sk-parallel-item::before {content: \"\";position: absolute;border-left: 1px solid gray;box-sizing: border-box;top: 0;bottom: 0;left: 50%;z-index: -1;}#sk-container-id-2 div.sk-parallel-item {display: flex;flex-direction: column;z-index: 1;position: relative;background-color: white;}#sk-container-id-2 div.sk-parallel-item:first-child::after {align-self: flex-end;width: 50%;}#sk-container-id-2 div.sk-parallel-item:last-child::after {align-self: flex-start;width: 50%;}#sk-container-id-2 div.sk-parallel-item:only-child::after {width: 0;}#sk-container-id-2 div.sk-dashed-wrapped {border: 1px dashed gray;margin: 0 0.4em 0.5em 0.4em;box-sizing: border-box;padding-bottom: 0.4em;background-color: white;}#sk-container-id-2 div.sk-label label {font-family: monospace;font-weight: bold;display: inline-block;line-height: 1.2em;}#sk-container-id-2 div.sk-label-container {text-align: center;}#sk-container-id-2 div.sk-container {/* jupyter's `normalize.less` sets `[hidden] { display: none; }` but bootstrap.min.css set `[hidden] { display: none !important; }` so we also need the `!important` here to be able to override the default hidden behavior on the sphinx rendered scikit-learn.org. See: https://github.com/scikit-learn/scikit-learn/issues/21755 */display: inline-block !important;position: relative;}#sk-container-id-2 div.sk-text-repr-fallback {display: none;}</style><div id=\"sk-container-id-2\" class=\"sk-top-container\"><div class=\"sk-text-repr-fallback\"><pre>LinearRegression()</pre><b>In a Jupyter environment, please rerun this cell to show the HTML representation or trust the notebook. <br />On GitHub, the HTML representation is unable to render, please try loading this page with nbviewer.org.</b></div><div class=\"sk-container\" hidden><div class=\"sk-item\"><div class=\"sk-estimator sk-toggleable\"><input class=\"sk-toggleable__control sk-hidden--visually\" id=\"sk-estimator-id-2\" type=\"checkbox\" checked><label for=\"sk-estimator-id-2\" class=\"sk-toggleable__label sk-toggleable__label-arrow\">LinearRegression</label><div class=\"sk-toggleable__content\"><pre>LinearRegression()</pre></div></div></div></div></div>"
            ]
          },
          "metadata": {},
          "execution_count": 29
        }
      ]
    },
    {
      "cell_type": "code",
      "source": [
        "LRpred = LR.predict(xtestStd)"
      ],
      "metadata": {
        "id": "wx0XDV_lTEj7"
      },
      "execution_count": 30,
      "outputs": []
    },
    {
      "cell_type": "code",
      "source": [
        "modelEval(LR, xtrainStd, ytrain)"
      ],
      "metadata": {
        "colab": {
          "base_uri": "https://localhost:8080/"
        },
        "id": "ZHLWjSIXKqlJ",
        "outputId": "d71942fb-9d55-4e4f-c8dd-bdf664554bae"
      },
      "execution_count": 31,
      "outputs": [
        {
          "output_type": "stream",
          "name": "stdout",
          "text": [
            "Average fitting-time:  0.7376230716705322 \n",
            "Average score-time:  0.01354355812072754 \n",
            "Average test-score (MSE):  0.6793364111940502\n"
          ]
        }
      ]
    },
    {
      "cell_type": "code",
      "source": [
        "mean_squared_error(ytest, LRpred)"
      ],
      "metadata": {
        "colab": {
          "base_uri": "https://localhost:8080/"
        },
        "id": "pcC4dC1oS6lG",
        "outputId": "70581462-6cb4-426e-f320-242251285f97"
      },
      "execution_count": 32,
      "outputs": [
        {
          "output_type": "execute_result",
          "data": {
            "text/plain": [
              "0.4050504243094777"
            ]
          },
          "metadata": {},
          "execution_count": 32
        }
      ]
    },
    {
      "cell_type": "code",
      "source": [
        "from sklearn.tree import DecisionTreeRegressor\n",
        "\n",
        "DTR = DecisionTreeRegressor(random_state=42)"
      ],
      "metadata": {
        "id": "-bMasOCjKwBM"
      },
      "execution_count": 33,
      "outputs": []
    },
    {
      "cell_type": "code",
      "source": [
        "DTR.fit(xtrainStd, ytrain)"
      ],
      "metadata": {
        "colab": {
          "base_uri": "https://localhost:8080/",
          "height": 74
        },
        "id": "mZTpOXvYLkvy",
        "outputId": "5efe01a0-6776-49c5-d907-83ae9e9b89d7"
      },
      "execution_count": 34,
      "outputs": [
        {
          "output_type": "execute_result",
          "data": {
            "text/plain": [
              "DecisionTreeRegressor(random_state=42)"
            ],
            "text/html": [
              "<style>#sk-container-id-3 {color: black;background-color: white;}#sk-container-id-3 pre{padding: 0;}#sk-container-id-3 div.sk-toggleable {background-color: white;}#sk-container-id-3 label.sk-toggleable__label {cursor: pointer;display: block;width: 100%;margin-bottom: 0;padding: 0.3em;box-sizing: border-box;text-align: center;}#sk-container-id-3 label.sk-toggleable__label-arrow:before {content: \"▸\";float: left;margin-right: 0.25em;color: #696969;}#sk-container-id-3 label.sk-toggleable__label-arrow:hover:before {color: black;}#sk-container-id-3 div.sk-estimator:hover label.sk-toggleable__label-arrow:before {color: black;}#sk-container-id-3 div.sk-toggleable__content {max-height: 0;max-width: 0;overflow: hidden;text-align: left;background-color: #f0f8ff;}#sk-container-id-3 div.sk-toggleable__content pre {margin: 0.2em;color: black;border-radius: 0.25em;background-color: #f0f8ff;}#sk-container-id-3 input.sk-toggleable__control:checked~div.sk-toggleable__content {max-height: 200px;max-width: 100%;overflow: auto;}#sk-container-id-3 input.sk-toggleable__control:checked~label.sk-toggleable__label-arrow:before {content: \"▾\";}#sk-container-id-3 div.sk-estimator input.sk-toggleable__control:checked~label.sk-toggleable__label {background-color: #d4ebff;}#sk-container-id-3 div.sk-label input.sk-toggleable__control:checked~label.sk-toggleable__label {background-color: #d4ebff;}#sk-container-id-3 input.sk-hidden--visually {border: 0;clip: rect(1px 1px 1px 1px);clip: rect(1px, 1px, 1px, 1px);height: 1px;margin: -1px;overflow: hidden;padding: 0;position: absolute;width: 1px;}#sk-container-id-3 div.sk-estimator {font-family: monospace;background-color: #f0f8ff;border: 1px dotted black;border-radius: 0.25em;box-sizing: border-box;margin-bottom: 0.5em;}#sk-container-id-3 div.sk-estimator:hover {background-color: #d4ebff;}#sk-container-id-3 div.sk-parallel-item::after {content: \"\";width: 100%;border-bottom: 1px solid gray;flex-grow: 1;}#sk-container-id-3 div.sk-label:hover label.sk-toggleable__label {background-color: #d4ebff;}#sk-container-id-3 div.sk-serial::before {content: \"\";position: absolute;border-left: 1px solid gray;box-sizing: border-box;top: 0;bottom: 0;left: 50%;z-index: 0;}#sk-container-id-3 div.sk-serial {display: flex;flex-direction: column;align-items: center;background-color: white;padding-right: 0.2em;padding-left: 0.2em;position: relative;}#sk-container-id-3 div.sk-item {position: relative;z-index: 1;}#sk-container-id-3 div.sk-parallel {display: flex;align-items: stretch;justify-content: center;background-color: white;position: relative;}#sk-container-id-3 div.sk-item::before, #sk-container-id-3 div.sk-parallel-item::before {content: \"\";position: absolute;border-left: 1px solid gray;box-sizing: border-box;top: 0;bottom: 0;left: 50%;z-index: -1;}#sk-container-id-3 div.sk-parallel-item {display: flex;flex-direction: column;z-index: 1;position: relative;background-color: white;}#sk-container-id-3 div.sk-parallel-item:first-child::after {align-self: flex-end;width: 50%;}#sk-container-id-3 div.sk-parallel-item:last-child::after {align-self: flex-start;width: 50%;}#sk-container-id-3 div.sk-parallel-item:only-child::after {width: 0;}#sk-container-id-3 div.sk-dashed-wrapped {border: 1px dashed gray;margin: 0 0.4em 0.5em 0.4em;box-sizing: border-box;padding-bottom: 0.4em;background-color: white;}#sk-container-id-3 div.sk-label label {font-family: monospace;font-weight: bold;display: inline-block;line-height: 1.2em;}#sk-container-id-3 div.sk-label-container {text-align: center;}#sk-container-id-3 div.sk-container {/* jupyter's `normalize.less` sets `[hidden] { display: none; }` but bootstrap.min.css set `[hidden] { display: none !important; }` so we also need the `!important` here to be able to override the default hidden behavior on the sphinx rendered scikit-learn.org. See: https://github.com/scikit-learn/scikit-learn/issues/21755 */display: inline-block !important;position: relative;}#sk-container-id-3 div.sk-text-repr-fallback {display: none;}</style><div id=\"sk-container-id-3\" class=\"sk-top-container\"><div class=\"sk-text-repr-fallback\"><pre>DecisionTreeRegressor(random_state=42)</pre><b>In a Jupyter environment, please rerun this cell to show the HTML representation or trust the notebook. <br />On GitHub, the HTML representation is unable to render, please try loading this page with nbviewer.org.</b></div><div class=\"sk-container\" hidden><div class=\"sk-item\"><div class=\"sk-estimator sk-toggleable\"><input class=\"sk-toggleable__control sk-hidden--visually\" id=\"sk-estimator-id-3\" type=\"checkbox\" checked><label for=\"sk-estimator-id-3\" class=\"sk-toggleable__label sk-toggleable__label-arrow\">DecisionTreeRegressor</label><div class=\"sk-toggleable__content\"><pre>DecisionTreeRegressor(random_state=42)</pre></div></div></div></div></div>"
            ]
          },
          "metadata": {},
          "execution_count": 34
        }
      ]
    },
    {
      "cell_type": "code",
      "source": [
        "DTpred = DTR.predict(xtest)"
      ],
      "metadata": {
        "colab": {
          "base_uri": "https://localhost:8080/"
        },
        "id": "gzFwsjZXLu3M",
        "outputId": "2444e660-ca82-453f-eafd-bfdb5dcc11be"
      },
      "execution_count": 35,
      "outputs": [
        {
          "output_type": "stream",
          "name": "stderr",
          "text": [
            "/usr/local/lib/python3.10/dist-packages/sklearn/base.py:432: UserWarning: X has feature names, but DecisionTreeRegressor was fitted without feature names\n",
            "  warnings.warn(\n"
          ]
        }
      ]
    },
    {
      "cell_type": "code",
      "source": [
        "mean_squared_error(ytest, DTpred)"
      ],
      "metadata": {
        "colab": {
          "base_uri": "https://localhost:8080/"
        },
        "id": "ac61zCMpL_Ce",
        "outputId": "7ca9e46b-73d6-45ad-ceb4-15f1e7666128"
      },
      "execution_count": 36,
      "outputs": [
        {
          "output_type": "execute_result",
          "data": {
            "text/plain": [
              "2.1595521562831794"
            ]
          },
          "metadata": {},
          "execution_count": 36
        }
      ]
    },
    {
      "cell_type": "code",
      "source": [
        "modelEval(DTR, xtrainStd, ytrain)"
      ],
      "metadata": {
        "id": "kTHSdrWlMMBq",
        "colab": {
          "base_uri": "https://localhost:8080/"
        },
        "outputId": "f37a041f-5d50-41e9-a440-376a36d8fb92"
      },
      "execution_count": 37,
      "outputs": [
        {
          "output_type": "stream",
          "name": "stdout",
          "text": [
            "Average fitting-time:  24.565857124328613 \n",
            "Average score-time:  0.08781967163085938 \n",
            "Average test-score (MSE):  0.9927909656839585\n"
          ]
        }
      ]
    },
    {
      "cell_type": "code",
      "source": [
        "RFR = RandomForestRegressor(n_estimators=10, max_depth=10)"
      ],
      "metadata": {
        "id": "lQXJLpVeNFim"
      },
      "execution_count": 38,
      "outputs": []
    },
    {
      "cell_type": "code",
      "source": [
        "RFR.fit(xtrainStd, ytrain)"
      ],
      "metadata": {
        "id": "H-ovEdLPMUgh",
        "colab": {
          "base_uri": "https://localhost:8080/",
          "height": 74
        },
        "outputId": "d591031f-6da5-46be-deff-90bd5cbeaf50"
      },
      "execution_count": 39,
      "outputs": [
        {
          "output_type": "execute_result",
          "data": {
            "text/plain": [
              "RandomForestRegressor(max_depth=10, n_estimators=10)"
            ],
            "text/html": [
              "<style>#sk-container-id-4 {color: black;background-color: white;}#sk-container-id-4 pre{padding: 0;}#sk-container-id-4 div.sk-toggleable {background-color: white;}#sk-container-id-4 label.sk-toggleable__label {cursor: pointer;display: block;width: 100%;margin-bottom: 0;padding: 0.3em;box-sizing: border-box;text-align: center;}#sk-container-id-4 label.sk-toggleable__label-arrow:before {content: \"▸\";float: left;margin-right: 0.25em;color: #696969;}#sk-container-id-4 label.sk-toggleable__label-arrow:hover:before {color: black;}#sk-container-id-4 div.sk-estimator:hover label.sk-toggleable__label-arrow:before {color: black;}#sk-container-id-4 div.sk-toggleable__content {max-height: 0;max-width: 0;overflow: hidden;text-align: left;background-color: #f0f8ff;}#sk-container-id-4 div.sk-toggleable__content pre {margin: 0.2em;color: black;border-radius: 0.25em;background-color: #f0f8ff;}#sk-container-id-4 input.sk-toggleable__control:checked~div.sk-toggleable__content {max-height: 200px;max-width: 100%;overflow: auto;}#sk-container-id-4 input.sk-toggleable__control:checked~label.sk-toggleable__label-arrow:before {content: \"▾\";}#sk-container-id-4 div.sk-estimator input.sk-toggleable__control:checked~label.sk-toggleable__label {background-color: #d4ebff;}#sk-container-id-4 div.sk-label input.sk-toggleable__control:checked~label.sk-toggleable__label {background-color: #d4ebff;}#sk-container-id-4 input.sk-hidden--visually {border: 0;clip: rect(1px 1px 1px 1px);clip: rect(1px, 1px, 1px, 1px);height: 1px;margin: -1px;overflow: hidden;padding: 0;position: absolute;width: 1px;}#sk-container-id-4 div.sk-estimator {font-family: monospace;background-color: #f0f8ff;border: 1px dotted black;border-radius: 0.25em;box-sizing: border-box;margin-bottom: 0.5em;}#sk-container-id-4 div.sk-estimator:hover {background-color: #d4ebff;}#sk-container-id-4 div.sk-parallel-item::after {content: \"\";width: 100%;border-bottom: 1px solid gray;flex-grow: 1;}#sk-container-id-4 div.sk-label:hover label.sk-toggleable__label {background-color: #d4ebff;}#sk-container-id-4 div.sk-serial::before {content: \"\";position: absolute;border-left: 1px solid gray;box-sizing: border-box;top: 0;bottom: 0;left: 50%;z-index: 0;}#sk-container-id-4 div.sk-serial {display: flex;flex-direction: column;align-items: center;background-color: white;padding-right: 0.2em;padding-left: 0.2em;position: relative;}#sk-container-id-4 div.sk-item {position: relative;z-index: 1;}#sk-container-id-4 div.sk-parallel {display: flex;align-items: stretch;justify-content: center;background-color: white;position: relative;}#sk-container-id-4 div.sk-item::before, #sk-container-id-4 div.sk-parallel-item::before {content: \"\";position: absolute;border-left: 1px solid gray;box-sizing: border-box;top: 0;bottom: 0;left: 50%;z-index: -1;}#sk-container-id-4 div.sk-parallel-item {display: flex;flex-direction: column;z-index: 1;position: relative;background-color: white;}#sk-container-id-4 div.sk-parallel-item:first-child::after {align-self: flex-end;width: 50%;}#sk-container-id-4 div.sk-parallel-item:last-child::after {align-self: flex-start;width: 50%;}#sk-container-id-4 div.sk-parallel-item:only-child::after {width: 0;}#sk-container-id-4 div.sk-dashed-wrapped {border: 1px dashed gray;margin: 0 0.4em 0.5em 0.4em;box-sizing: border-box;padding-bottom: 0.4em;background-color: white;}#sk-container-id-4 div.sk-label label {font-family: monospace;font-weight: bold;display: inline-block;line-height: 1.2em;}#sk-container-id-4 div.sk-label-container {text-align: center;}#sk-container-id-4 div.sk-container {/* jupyter's `normalize.less` sets `[hidden] { display: none; }` but bootstrap.min.css set `[hidden] { display: none !important; }` so we also need the `!important` here to be able to override the default hidden behavior on the sphinx rendered scikit-learn.org. See: https://github.com/scikit-learn/scikit-learn/issues/21755 */display: inline-block !important;position: relative;}#sk-container-id-4 div.sk-text-repr-fallback {display: none;}</style><div id=\"sk-container-id-4\" class=\"sk-top-container\"><div class=\"sk-text-repr-fallback\"><pre>RandomForestRegressor(max_depth=10, n_estimators=10)</pre><b>In a Jupyter environment, please rerun this cell to show the HTML representation or trust the notebook. <br />On GitHub, the HTML representation is unable to render, please try loading this page with nbviewer.org.</b></div><div class=\"sk-container\" hidden><div class=\"sk-item\"><div class=\"sk-estimator sk-toggleable\"><input class=\"sk-toggleable__control sk-hidden--visually\" id=\"sk-estimator-id-4\" type=\"checkbox\" checked><label for=\"sk-estimator-id-4\" class=\"sk-toggleable__label sk-toggleable__label-arrow\">RandomForestRegressor</label><div class=\"sk-toggleable__content\"><pre>RandomForestRegressor(max_depth=10, n_estimators=10)</pre></div></div></div></div></div>"
            ]
          },
          "metadata": {},
          "execution_count": 39
        }
      ]
    },
    {
      "cell_type": "code",
      "source": [
        "RFRpred = RFR.predict(xtest)"
      ],
      "metadata": {
        "id": "JUZdrZ8eM8QP",
        "colab": {
          "base_uri": "https://localhost:8080/"
        },
        "outputId": "afe7434e-c0a3-443f-8be9-48a938f302e1"
      },
      "execution_count": 40,
      "outputs": [
        {
          "output_type": "stream",
          "name": "stderr",
          "text": [
            "/usr/local/lib/python3.10/dist-packages/sklearn/base.py:432: UserWarning: X has feature names, but RandomForestRegressor was fitted without feature names\n",
            "  warnings.warn(\n"
          ]
        }
      ]
    },
    {
      "cell_type": "code",
      "source": [
        "mean_squared_error(ytest, RFRpred)"
      ],
      "metadata": {
        "id": "hXomNdTgO_eq",
        "colab": {
          "base_uri": "https://localhost:8080/"
        },
        "outputId": "1874622b-33be-4a3d-9976-4e70e90c0cc8"
      },
      "execution_count": 41,
      "outputs": [
        {
          "output_type": "execute_result",
          "data": {
            "text/plain": [
              "1.8980768732508213"
            ]
          },
          "metadata": {},
          "execution_count": 41
        }
      ]
    },
    {
      "cell_type": "code",
      "source": [
        "modelEval(RFR, xtrainStd, ytrain)"
      ],
      "metadata": {
        "id": "I5JsuLuIPD6-",
        "colab": {
          "base_uri": "https://localhost:8080/"
        },
        "outputId": "8f9d3f99-ff73-4c9b-c61f-7c31a1dbc3ee"
      },
      "execution_count": 42,
      "outputs": [
        {
          "output_type": "stream",
          "name": "stdout",
          "text": [
            "Average fitting-time:  100.10127654075623 \n",
            "Average score-time:  0.12444119453430176 \n",
            "Average test-score (MSE):  0.8821412760863586\n"
          ]
        }
      ]
    },
    {
      "cell_type": "code",
      "source": [
        "mean_squared_error(ytest, RFRpred)"
      ],
      "metadata": {
        "id": "WuSO8rXzPIOS",
        "colab": {
          "base_uri": "https://localhost:8080/"
        },
        "outputId": "0f061017-644c-42c2-c927-f9cea00c1552"
      },
      "execution_count": 43,
      "outputs": [
        {
          "output_type": "execute_result",
          "data": {
            "text/plain": [
              "1.8980768732508213"
            ]
          },
          "metadata": {},
          "execution_count": 43
        }
      ]
    }
  ]
}